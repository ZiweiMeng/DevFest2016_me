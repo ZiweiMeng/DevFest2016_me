{
 "cells": [
  {
   "cell_type": "markdown",
   "metadata": {
    "collapsed": true
   },
   "source": [
    "## Get all the webpages"
   ]
  },
  {
   "cell_type": "code",
   "execution_count": 43,
   "metadata": {
    "collapsed": false
   },
   "outputs": [],
   "source": [
    "import numpy as np\n",
    "link_format = \"http://www.tripadvisor.com/Search?q={}&geo=191#&ssrc=A&o={}\"\n",
    "key_words = ['sunny','beautiful','happy','fun','great','family','travel']\n",
    "##define the key words\n",
    "pages = range(0,34)\n",
    "pages = np.asarray(pages)*30\n",
    "##33 pages, i.e. 33 *.html files"
   ]
  },
  {
   "cell_type": "code",
   "execution_count": 40,
   "metadata": {
    "collapsed": false
   },
   "outputs": [],
   "source": [
    "def get_dictionary(key_words,pages):\n",
    "    reviews_dict = dict([(adj, site) for adj in key_words for site in [pages]])\n",
    "    \n",
    "    return reviews_dict\n",
    "    "
   ]
  },
  {
   "cell_type": "code",
   "execution_count": 42,
   "metadata": {
    "collapsed": false
   },
   "outputs": [
    {
     "data": {
      "text/plain": [
       "{'beautiful': array([  0,  30,  60,  90, 120, 150, 180, 210, 240, 270, 300, 330, 360,\n",
       "        390, 420, 450, 480, 510, 540, 570, 600, 630, 660, 690, 720, 750,\n",
       "        780, 810, 840, 870, 900, 930, 960, 990]),\n",
       " 'sunny': array([  0,  30,  60,  90, 120, 150, 180, 210, 240, 270, 300, 330, 360,\n",
       "        390, 420, 450, 480, 510, 540, 570, 600, 630, 660, 690, 720, 750,\n",
       "        780, 810, 840, 870, 900, 930, 960, 990])}"
      ]
     },
     "execution_count": 42,
     "metadata": {},
     "output_type": "execute_result"
    }
   ],
   "source": [
    "reviews_dict = get_dictionary(key_words,pages)\n",
    "reviews_dict"
   ]
  },
  {
   "cell_type": "code",
   "execution_count": 44,
   "metadata": {
    "collapsed": false
   },
   "outputs": [],
   "source": [
    "links = [link_format.format(select,page)\n",
    "            for select in key_words\n",
    "            for page in pages]"
   ]
  },
  {
   "cell_type": "code",
   "execution_count": 45,
   "metadata": {
    "collapsed": false
   },
   "outputs": [
    {
     "data": {
      "text/plain": [
       "['http://www.tripadvisor.com/Search?q=sunny&geo=191#&ssrc=A&o=0',\n",
       " 'http://www.tripadvisor.com/Search?q=sunny&geo=191#&ssrc=A&o=30',\n",
       " 'http://www.tripadvisor.com/Search?q=sunny&geo=191#&ssrc=A&o=60',\n",
       " 'http://www.tripadvisor.com/Search?q=sunny&geo=191#&ssrc=A&o=90',\n",
       " 'http://www.tripadvisor.com/Search?q=sunny&geo=191#&ssrc=A&o=120',\n",
       " 'http://www.tripadvisor.com/Search?q=sunny&geo=191#&ssrc=A&o=150',\n",
       " 'http://www.tripadvisor.com/Search?q=sunny&geo=191#&ssrc=A&o=180',\n",
       " 'http://www.tripadvisor.com/Search?q=sunny&geo=191#&ssrc=A&o=210',\n",
       " 'http://www.tripadvisor.com/Search?q=sunny&geo=191#&ssrc=A&o=240',\n",
       " 'http://www.tripadvisor.com/Search?q=sunny&geo=191#&ssrc=A&o=270',\n",
       " 'http://www.tripadvisor.com/Search?q=sunny&geo=191#&ssrc=A&o=300',\n",
       " 'http://www.tripadvisor.com/Search?q=sunny&geo=191#&ssrc=A&o=330',\n",
       " 'http://www.tripadvisor.com/Search?q=sunny&geo=191#&ssrc=A&o=360',\n",
       " 'http://www.tripadvisor.com/Search?q=sunny&geo=191#&ssrc=A&o=390',\n",
       " 'http://www.tripadvisor.com/Search?q=sunny&geo=191#&ssrc=A&o=420',\n",
       " 'http://www.tripadvisor.com/Search?q=sunny&geo=191#&ssrc=A&o=450',\n",
       " 'http://www.tripadvisor.com/Search?q=sunny&geo=191#&ssrc=A&o=480',\n",
       " 'http://www.tripadvisor.com/Search?q=sunny&geo=191#&ssrc=A&o=510',\n",
       " 'http://www.tripadvisor.com/Search?q=sunny&geo=191#&ssrc=A&o=540',\n",
       " 'http://www.tripadvisor.com/Search?q=sunny&geo=191#&ssrc=A&o=570',\n",
       " 'http://www.tripadvisor.com/Search?q=sunny&geo=191#&ssrc=A&o=600',\n",
       " 'http://www.tripadvisor.com/Search?q=sunny&geo=191#&ssrc=A&o=630',\n",
       " 'http://www.tripadvisor.com/Search?q=sunny&geo=191#&ssrc=A&o=660',\n",
       " 'http://www.tripadvisor.com/Search?q=sunny&geo=191#&ssrc=A&o=690',\n",
       " 'http://www.tripadvisor.com/Search?q=sunny&geo=191#&ssrc=A&o=720',\n",
       " 'http://www.tripadvisor.com/Search?q=sunny&geo=191#&ssrc=A&o=750',\n",
       " 'http://www.tripadvisor.com/Search?q=sunny&geo=191#&ssrc=A&o=780',\n",
       " 'http://www.tripadvisor.com/Search?q=sunny&geo=191#&ssrc=A&o=810',\n",
       " 'http://www.tripadvisor.com/Search?q=sunny&geo=191#&ssrc=A&o=840',\n",
       " 'http://www.tripadvisor.com/Search?q=sunny&geo=191#&ssrc=A&o=870',\n",
       " 'http://www.tripadvisor.com/Search?q=sunny&geo=191#&ssrc=A&o=900',\n",
       " 'http://www.tripadvisor.com/Search?q=sunny&geo=191#&ssrc=A&o=930',\n",
       " 'http://www.tripadvisor.com/Search?q=sunny&geo=191#&ssrc=A&o=960',\n",
       " 'http://www.tripadvisor.com/Search?q=sunny&geo=191#&ssrc=A&o=990',\n",
       " 'http://www.tripadvisor.com/Search?q=beautiful&geo=191#&ssrc=A&o=0',\n",
       " 'http://www.tripadvisor.com/Search?q=beautiful&geo=191#&ssrc=A&o=30',\n",
       " 'http://www.tripadvisor.com/Search?q=beautiful&geo=191#&ssrc=A&o=60',\n",
       " 'http://www.tripadvisor.com/Search?q=beautiful&geo=191#&ssrc=A&o=90',\n",
       " 'http://www.tripadvisor.com/Search?q=beautiful&geo=191#&ssrc=A&o=120',\n",
       " 'http://www.tripadvisor.com/Search?q=beautiful&geo=191#&ssrc=A&o=150',\n",
       " 'http://www.tripadvisor.com/Search?q=beautiful&geo=191#&ssrc=A&o=180',\n",
       " 'http://www.tripadvisor.com/Search?q=beautiful&geo=191#&ssrc=A&o=210',\n",
       " 'http://www.tripadvisor.com/Search?q=beautiful&geo=191#&ssrc=A&o=240',\n",
       " 'http://www.tripadvisor.com/Search?q=beautiful&geo=191#&ssrc=A&o=270',\n",
       " 'http://www.tripadvisor.com/Search?q=beautiful&geo=191#&ssrc=A&o=300',\n",
       " 'http://www.tripadvisor.com/Search?q=beautiful&geo=191#&ssrc=A&o=330',\n",
       " 'http://www.tripadvisor.com/Search?q=beautiful&geo=191#&ssrc=A&o=360',\n",
       " 'http://www.tripadvisor.com/Search?q=beautiful&geo=191#&ssrc=A&o=390',\n",
       " 'http://www.tripadvisor.com/Search?q=beautiful&geo=191#&ssrc=A&o=420',\n",
       " 'http://www.tripadvisor.com/Search?q=beautiful&geo=191#&ssrc=A&o=450',\n",
       " 'http://www.tripadvisor.com/Search?q=beautiful&geo=191#&ssrc=A&o=480',\n",
       " 'http://www.tripadvisor.com/Search?q=beautiful&geo=191#&ssrc=A&o=510',\n",
       " 'http://www.tripadvisor.com/Search?q=beautiful&geo=191#&ssrc=A&o=540',\n",
       " 'http://www.tripadvisor.com/Search?q=beautiful&geo=191#&ssrc=A&o=570',\n",
       " 'http://www.tripadvisor.com/Search?q=beautiful&geo=191#&ssrc=A&o=600',\n",
       " 'http://www.tripadvisor.com/Search?q=beautiful&geo=191#&ssrc=A&o=630',\n",
       " 'http://www.tripadvisor.com/Search?q=beautiful&geo=191#&ssrc=A&o=660',\n",
       " 'http://www.tripadvisor.com/Search?q=beautiful&geo=191#&ssrc=A&o=690',\n",
       " 'http://www.tripadvisor.com/Search?q=beautiful&geo=191#&ssrc=A&o=720',\n",
       " 'http://www.tripadvisor.com/Search?q=beautiful&geo=191#&ssrc=A&o=750',\n",
       " 'http://www.tripadvisor.com/Search?q=beautiful&geo=191#&ssrc=A&o=780',\n",
       " 'http://www.tripadvisor.com/Search?q=beautiful&geo=191#&ssrc=A&o=810',\n",
       " 'http://www.tripadvisor.com/Search?q=beautiful&geo=191#&ssrc=A&o=840',\n",
       " 'http://www.tripadvisor.com/Search?q=beautiful&geo=191#&ssrc=A&o=870',\n",
       " 'http://www.tripadvisor.com/Search?q=beautiful&geo=191#&ssrc=A&o=900',\n",
       " 'http://www.tripadvisor.com/Search?q=beautiful&geo=191#&ssrc=A&o=930',\n",
       " 'http://www.tripadvisor.com/Search?q=beautiful&geo=191#&ssrc=A&o=960',\n",
       " 'http://www.tripadvisor.com/Search?q=beautiful&geo=191#&ssrc=A&o=990',\n",
       " 'http://www.tripadvisor.com/Search?q=happy&geo=191#&ssrc=A&o=0',\n",
       " 'http://www.tripadvisor.com/Search?q=happy&geo=191#&ssrc=A&o=30',\n",
       " 'http://www.tripadvisor.com/Search?q=happy&geo=191#&ssrc=A&o=60',\n",
       " 'http://www.tripadvisor.com/Search?q=happy&geo=191#&ssrc=A&o=90',\n",
       " 'http://www.tripadvisor.com/Search?q=happy&geo=191#&ssrc=A&o=120',\n",
       " 'http://www.tripadvisor.com/Search?q=happy&geo=191#&ssrc=A&o=150',\n",
       " 'http://www.tripadvisor.com/Search?q=happy&geo=191#&ssrc=A&o=180',\n",
       " 'http://www.tripadvisor.com/Search?q=happy&geo=191#&ssrc=A&o=210',\n",
       " 'http://www.tripadvisor.com/Search?q=happy&geo=191#&ssrc=A&o=240',\n",
       " 'http://www.tripadvisor.com/Search?q=happy&geo=191#&ssrc=A&o=270',\n",
       " 'http://www.tripadvisor.com/Search?q=happy&geo=191#&ssrc=A&o=300',\n",
       " 'http://www.tripadvisor.com/Search?q=happy&geo=191#&ssrc=A&o=330',\n",
       " 'http://www.tripadvisor.com/Search?q=happy&geo=191#&ssrc=A&o=360',\n",
       " 'http://www.tripadvisor.com/Search?q=happy&geo=191#&ssrc=A&o=390',\n",
       " 'http://www.tripadvisor.com/Search?q=happy&geo=191#&ssrc=A&o=420',\n",
       " 'http://www.tripadvisor.com/Search?q=happy&geo=191#&ssrc=A&o=450',\n",
       " 'http://www.tripadvisor.com/Search?q=happy&geo=191#&ssrc=A&o=480',\n",
       " 'http://www.tripadvisor.com/Search?q=happy&geo=191#&ssrc=A&o=510',\n",
       " 'http://www.tripadvisor.com/Search?q=happy&geo=191#&ssrc=A&o=540',\n",
       " 'http://www.tripadvisor.com/Search?q=happy&geo=191#&ssrc=A&o=570',\n",
       " 'http://www.tripadvisor.com/Search?q=happy&geo=191#&ssrc=A&o=600',\n",
       " 'http://www.tripadvisor.com/Search?q=happy&geo=191#&ssrc=A&o=630',\n",
       " 'http://www.tripadvisor.com/Search?q=happy&geo=191#&ssrc=A&o=660',\n",
       " 'http://www.tripadvisor.com/Search?q=happy&geo=191#&ssrc=A&o=690',\n",
       " 'http://www.tripadvisor.com/Search?q=happy&geo=191#&ssrc=A&o=720',\n",
       " 'http://www.tripadvisor.com/Search?q=happy&geo=191#&ssrc=A&o=750',\n",
       " 'http://www.tripadvisor.com/Search?q=happy&geo=191#&ssrc=A&o=780',\n",
       " 'http://www.tripadvisor.com/Search?q=happy&geo=191#&ssrc=A&o=810',\n",
       " 'http://www.tripadvisor.com/Search?q=happy&geo=191#&ssrc=A&o=840',\n",
       " 'http://www.tripadvisor.com/Search?q=happy&geo=191#&ssrc=A&o=870',\n",
       " 'http://www.tripadvisor.com/Search?q=happy&geo=191#&ssrc=A&o=900',\n",
       " 'http://www.tripadvisor.com/Search?q=happy&geo=191#&ssrc=A&o=930',\n",
       " 'http://www.tripadvisor.com/Search?q=happy&geo=191#&ssrc=A&o=960',\n",
       " 'http://www.tripadvisor.com/Search?q=happy&geo=191#&ssrc=A&o=990',\n",
       " 'http://www.tripadvisor.com/Search?q=fun&geo=191#&ssrc=A&o=0',\n",
       " 'http://www.tripadvisor.com/Search?q=fun&geo=191#&ssrc=A&o=30',\n",
       " 'http://www.tripadvisor.com/Search?q=fun&geo=191#&ssrc=A&o=60',\n",
       " 'http://www.tripadvisor.com/Search?q=fun&geo=191#&ssrc=A&o=90',\n",
       " 'http://www.tripadvisor.com/Search?q=fun&geo=191#&ssrc=A&o=120',\n",
       " 'http://www.tripadvisor.com/Search?q=fun&geo=191#&ssrc=A&o=150',\n",
       " 'http://www.tripadvisor.com/Search?q=fun&geo=191#&ssrc=A&o=180',\n",
       " 'http://www.tripadvisor.com/Search?q=fun&geo=191#&ssrc=A&o=210',\n",
       " 'http://www.tripadvisor.com/Search?q=fun&geo=191#&ssrc=A&o=240',\n",
       " 'http://www.tripadvisor.com/Search?q=fun&geo=191#&ssrc=A&o=270',\n",
       " 'http://www.tripadvisor.com/Search?q=fun&geo=191#&ssrc=A&o=300',\n",
       " 'http://www.tripadvisor.com/Search?q=fun&geo=191#&ssrc=A&o=330',\n",
       " 'http://www.tripadvisor.com/Search?q=fun&geo=191#&ssrc=A&o=360',\n",
       " 'http://www.tripadvisor.com/Search?q=fun&geo=191#&ssrc=A&o=390',\n",
       " 'http://www.tripadvisor.com/Search?q=fun&geo=191#&ssrc=A&o=420',\n",
       " 'http://www.tripadvisor.com/Search?q=fun&geo=191#&ssrc=A&o=450',\n",
       " 'http://www.tripadvisor.com/Search?q=fun&geo=191#&ssrc=A&o=480',\n",
       " 'http://www.tripadvisor.com/Search?q=fun&geo=191#&ssrc=A&o=510',\n",
       " 'http://www.tripadvisor.com/Search?q=fun&geo=191#&ssrc=A&o=540',\n",
       " 'http://www.tripadvisor.com/Search?q=fun&geo=191#&ssrc=A&o=570',\n",
       " 'http://www.tripadvisor.com/Search?q=fun&geo=191#&ssrc=A&o=600',\n",
       " 'http://www.tripadvisor.com/Search?q=fun&geo=191#&ssrc=A&o=630',\n",
       " 'http://www.tripadvisor.com/Search?q=fun&geo=191#&ssrc=A&o=660',\n",
       " 'http://www.tripadvisor.com/Search?q=fun&geo=191#&ssrc=A&o=690',\n",
       " 'http://www.tripadvisor.com/Search?q=fun&geo=191#&ssrc=A&o=720',\n",
       " 'http://www.tripadvisor.com/Search?q=fun&geo=191#&ssrc=A&o=750',\n",
       " 'http://www.tripadvisor.com/Search?q=fun&geo=191#&ssrc=A&o=780',\n",
       " 'http://www.tripadvisor.com/Search?q=fun&geo=191#&ssrc=A&o=810',\n",
       " 'http://www.tripadvisor.com/Search?q=fun&geo=191#&ssrc=A&o=840',\n",
       " 'http://www.tripadvisor.com/Search?q=fun&geo=191#&ssrc=A&o=870',\n",
       " 'http://www.tripadvisor.com/Search?q=fun&geo=191#&ssrc=A&o=900',\n",
       " 'http://www.tripadvisor.com/Search?q=fun&geo=191#&ssrc=A&o=930',\n",
       " 'http://www.tripadvisor.com/Search?q=fun&geo=191#&ssrc=A&o=960',\n",
       " 'http://www.tripadvisor.com/Search?q=fun&geo=191#&ssrc=A&o=990',\n",
       " 'http://www.tripadvisor.com/Search?q=great&geo=191#&ssrc=A&o=0',\n",
       " 'http://www.tripadvisor.com/Search?q=great&geo=191#&ssrc=A&o=30',\n",
       " 'http://www.tripadvisor.com/Search?q=great&geo=191#&ssrc=A&o=60',\n",
       " 'http://www.tripadvisor.com/Search?q=great&geo=191#&ssrc=A&o=90',\n",
       " 'http://www.tripadvisor.com/Search?q=great&geo=191#&ssrc=A&o=120',\n",
       " 'http://www.tripadvisor.com/Search?q=great&geo=191#&ssrc=A&o=150',\n",
       " 'http://www.tripadvisor.com/Search?q=great&geo=191#&ssrc=A&o=180',\n",
       " 'http://www.tripadvisor.com/Search?q=great&geo=191#&ssrc=A&o=210',\n",
       " 'http://www.tripadvisor.com/Search?q=great&geo=191#&ssrc=A&o=240',\n",
       " 'http://www.tripadvisor.com/Search?q=great&geo=191#&ssrc=A&o=270',\n",
       " 'http://www.tripadvisor.com/Search?q=great&geo=191#&ssrc=A&o=300',\n",
       " 'http://www.tripadvisor.com/Search?q=great&geo=191#&ssrc=A&o=330',\n",
       " 'http://www.tripadvisor.com/Search?q=great&geo=191#&ssrc=A&o=360',\n",
       " 'http://www.tripadvisor.com/Search?q=great&geo=191#&ssrc=A&o=390',\n",
       " 'http://www.tripadvisor.com/Search?q=great&geo=191#&ssrc=A&o=420',\n",
       " 'http://www.tripadvisor.com/Search?q=great&geo=191#&ssrc=A&o=450',\n",
       " 'http://www.tripadvisor.com/Search?q=great&geo=191#&ssrc=A&o=480',\n",
       " 'http://www.tripadvisor.com/Search?q=great&geo=191#&ssrc=A&o=510',\n",
       " 'http://www.tripadvisor.com/Search?q=great&geo=191#&ssrc=A&o=540',\n",
       " 'http://www.tripadvisor.com/Search?q=great&geo=191#&ssrc=A&o=570',\n",
       " 'http://www.tripadvisor.com/Search?q=great&geo=191#&ssrc=A&o=600',\n",
       " 'http://www.tripadvisor.com/Search?q=great&geo=191#&ssrc=A&o=630',\n",
       " 'http://www.tripadvisor.com/Search?q=great&geo=191#&ssrc=A&o=660',\n",
       " 'http://www.tripadvisor.com/Search?q=great&geo=191#&ssrc=A&o=690',\n",
       " 'http://www.tripadvisor.com/Search?q=great&geo=191#&ssrc=A&o=720',\n",
       " 'http://www.tripadvisor.com/Search?q=great&geo=191#&ssrc=A&o=750',\n",
       " 'http://www.tripadvisor.com/Search?q=great&geo=191#&ssrc=A&o=780',\n",
       " 'http://www.tripadvisor.com/Search?q=great&geo=191#&ssrc=A&o=810',\n",
       " 'http://www.tripadvisor.com/Search?q=great&geo=191#&ssrc=A&o=840',\n",
       " 'http://www.tripadvisor.com/Search?q=great&geo=191#&ssrc=A&o=870',\n",
       " 'http://www.tripadvisor.com/Search?q=great&geo=191#&ssrc=A&o=900',\n",
       " 'http://www.tripadvisor.com/Search?q=great&geo=191#&ssrc=A&o=930',\n",
       " 'http://www.tripadvisor.com/Search?q=great&geo=191#&ssrc=A&o=960',\n",
       " 'http://www.tripadvisor.com/Search?q=great&geo=191#&ssrc=A&o=990',\n",
       " 'http://www.tripadvisor.com/Search?q=family&geo=191#&ssrc=A&o=0',\n",
       " 'http://www.tripadvisor.com/Search?q=family&geo=191#&ssrc=A&o=30',\n",
       " 'http://www.tripadvisor.com/Search?q=family&geo=191#&ssrc=A&o=60',\n",
       " 'http://www.tripadvisor.com/Search?q=family&geo=191#&ssrc=A&o=90',\n",
       " 'http://www.tripadvisor.com/Search?q=family&geo=191#&ssrc=A&o=120',\n",
       " 'http://www.tripadvisor.com/Search?q=family&geo=191#&ssrc=A&o=150',\n",
       " 'http://www.tripadvisor.com/Search?q=family&geo=191#&ssrc=A&o=180',\n",
       " 'http://www.tripadvisor.com/Search?q=family&geo=191#&ssrc=A&o=210',\n",
       " 'http://www.tripadvisor.com/Search?q=family&geo=191#&ssrc=A&o=240',\n",
       " 'http://www.tripadvisor.com/Search?q=family&geo=191#&ssrc=A&o=270',\n",
       " 'http://www.tripadvisor.com/Search?q=family&geo=191#&ssrc=A&o=300',\n",
       " 'http://www.tripadvisor.com/Search?q=family&geo=191#&ssrc=A&o=330',\n",
       " 'http://www.tripadvisor.com/Search?q=family&geo=191#&ssrc=A&o=360',\n",
       " 'http://www.tripadvisor.com/Search?q=family&geo=191#&ssrc=A&o=390',\n",
       " 'http://www.tripadvisor.com/Search?q=family&geo=191#&ssrc=A&o=420',\n",
       " 'http://www.tripadvisor.com/Search?q=family&geo=191#&ssrc=A&o=450',\n",
       " 'http://www.tripadvisor.com/Search?q=family&geo=191#&ssrc=A&o=480',\n",
       " 'http://www.tripadvisor.com/Search?q=family&geo=191#&ssrc=A&o=510',\n",
       " 'http://www.tripadvisor.com/Search?q=family&geo=191#&ssrc=A&o=540',\n",
       " 'http://www.tripadvisor.com/Search?q=family&geo=191#&ssrc=A&o=570',\n",
       " 'http://www.tripadvisor.com/Search?q=family&geo=191#&ssrc=A&o=600',\n",
       " 'http://www.tripadvisor.com/Search?q=family&geo=191#&ssrc=A&o=630',\n",
       " 'http://www.tripadvisor.com/Search?q=family&geo=191#&ssrc=A&o=660',\n",
       " 'http://www.tripadvisor.com/Search?q=family&geo=191#&ssrc=A&o=690',\n",
       " 'http://www.tripadvisor.com/Search?q=family&geo=191#&ssrc=A&o=720',\n",
       " 'http://www.tripadvisor.com/Search?q=family&geo=191#&ssrc=A&o=750',\n",
       " 'http://www.tripadvisor.com/Search?q=family&geo=191#&ssrc=A&o=780',\n",
       " 'http://www.tripadvisor.com/Search?q=family&geo=191#&ssrc=A&o=810',\n",
       " 'http://www.tripadvisor.com/Search?q=family&geo=191#&ssrc=A&o=840',\n",
       " 'http://www.tripadvisor.com/Search?q=family&geo=191#&ssrc=A&o=870',\n",
       " 'http://www.tripadvisor.com/Search?q=family&geo=191#&ssrc=A&o=900',\n",
       " 'http://www.tripadvisor.com/Search?q=family&geo=191#&ssrc=A&o=930',\n",
       " 'http://www.tripadvisor.com/Search?q=family&geo=191#&ssrc=A&o=960',\n",
       " 'http://www.tripadvisor.com/Search?q=family&geo=191#&ssrc=A&o=990',\n",
       " 'http://www.tripadvisor.com/Search?q=travel&geo=191#&ssrc=A&o=0',\n",
       " 'http://www.tripadvisor.com/Search?q=travel&geo=191#&ssrc=A&o=30',\n",
       " 'http://www.tripadvisor.com/Search?q=travel&geo=191#&ssrc=A&o=60',\n",
       " 'http://www.tripadvisor.com/Search?q=travel&geo=191#&ssrc=A&o=90',\n",
       " 'http://www.tripadvisor.com/Search?q=travel&geo=191#&ssrc=A&o=120',\n",
       " 'http://www.tripadvisor.com/Search?q=travel&geo=191#&ssrc=A&o=150',\n",
       " 'http://www.tripadvisor.com/Search?q=travel&geo=191#&ssrc=A&o=180',\n",
       " 'http://www.tripadvisor.com/Search?q=travel&geo=191#&ssrc=A&o=210',\n",
       " 'http://www.tripadvisor.com/Search?q=travel&geo=191#&ssrc=A&o=240',\n",
       " 'http://www.tripadvisor.com/Search?q=travel&geo=191#&ssrc=A&o=270',\n",
       " 'http://www.tripadvisor.com/Search?q=travel&geo=191#&ssrc=A&o=300',\n",
       " 'http://www.tripadvisor.com/Search?q=travel&geo=191#&ssrc=A&o=330',\n",
       " 'http://www.tripadvisor.com/Search?q=travel&geo=191#&ssrc=A&o=360',\n",
       " 'http://www.tripadvisor.com/Search?q=travel&geo=191#&ssrc=A&o=390',\n",
       " 'http://www.tripadvisor.com/Search?q=travel&geo=191#&ssrc=A&o=420',\n",
       " 'http://www.tripadvisor.com/Search?q=travel&geo=191#&ssrc=A&o=450',\n",
       " 'http://www.tripadvisor.com/Search?q=travel&geo=191#&ssrc=A&o=480',\n",
       " 'http://www.tripadvisor.com/Search?q=travel&geo=191#&ssrc=A&o=510',\n",
       " 'http://www.tripadvisor.com/Search?q=travel&geo=191#&ssrc=A&o=540',\n",
       " 'http://www.tripadvisor.com/Search?q=travel&geo=191#&ssrc=A&o=570',\n",
       " 'http://www.tripadvisor.com/Search?q=travel&geo=191#&ssrc=A&o=600',\n",
       " 'http://www.tripadvisor.com/Search?q=travel&geo=191#&ssrc=A&o=630',\n",
       " 'http://www.tripadvisor.com/Search?q=travel&geo=191#&ssrc=A&o=660',\n",
       " 'http://www.tripadvisor.com/Search?q=travel&geo=191#&ssrc=A&o=690',\n",
       " 'http://www.tripadvisor.com/Search?q=travel&geo=191#&ssrc=A&o=720',\n",
       " 'http://www.tripadvisor.com/Search?q=travel&geo=191#&ssrc=A&o=750',\n",
       " 'http://www.tripadvisor.com/Search?q=travel&geo=191#&ssrc=A&o=780',\n",
       " 'http://www.tripadvisor.com/Search?q=travel&geo=191#&ssrc=A&o=810',\n",
       " 'http://www.tripadvisor.com/Search?q=travel&geo=191#&ssrc=A&o=840',\n",
       " 'http://www.tripadvisor.com/Search?q=travel&geo=191#&ssrc=A&o=870',\n",
       " 'http://www.tripadvisor.com/Search?q=travel&geo=191#&ssrc=A&o=900',\n",
       " 'http://www.tripadvisor.com/Search?q=travel&geo=191#&ssrc=A&o=930',\n",
       " 'http://www.tripadvisor.com/Search?q=travel&geo=191#&ssrc=A&o=960',\n",
       " 'http://www.tripadvisor.com/Search?q=travel&geo=191#&ssrc=A&o=990']"
      ]
     },
     "execution_count": 45,
     "metadata": {},
     "output_type": "execute_result"
    }
   ],
   "source": [
    "links"
   ]
  },
  {
   "cell_type": "code",
   "execution_count": 26,
   "metadata": {
    "collapsed": false
   },
   "outputs": [],
   "source": [
    "import requests\n",
    "import os.path"
   ]
  },
  {
   "cell_type": "code",
   "execution_count": 27,
   "metadata": {
    "collapsed": true
   },
   "outputs": [],
   "source": [
    "import sys\n",
    "reload(sys)\n",
    "sys.setdefaultencoding('utf-8')"
   ]
  },
  {
   "cell_type": "code",
   "execution_count": 28,
   "metadata": {
    "collapsed": false
   },
   "outputs": [],
   "source": [
    "def download_file(link, name):\n",
    "    if os.path.isfile(name):\n",
    "        return\n",
    "    file = open(name, 'w')\n",
    "    r = requests.get(link)\n",
    "    file.write(r.text)\n",
    "    file.close()\n",
    "for i, link in enumerate(links):\n",
    "    #if i % 50 == 0:\n",
    "    #    print(\"Done with %d..\" % i)\n",
    "    download_file(link, \"%d.html\" % i)"
   ]
  },
  {
   "cell_type": "code",
   "execution_count": 6,
   "metadata": {
    "collapsed": false
   },
   "outputs": [],
   "source": [
    "#from bs4 import BeautifulSoup"
   ]
  },
  {
   "cell_type": "code",
   "execution_count": 67,
   "metadata": {
    "collapsed": false
   },
   "outputs": [],
   "source": [
    "#with open(\"1.html\") as fin:\n",
    "    #soup = BeautifulSoup(fin.read(),\"html.parser\")\n",
    "    \n",
    "\n",
    "#myaddress = soup.find_all(\"div\", class_=\"address\")"
   ]
  },
  {
   "cell_type": "code",
   "execution_count": 69,
   "metadata": {
    "collapsed": false
   },
   "outputs": [
    {
     "data": {
      "text/plain": [
       "[<div class=\"address\">626 Haywood Road, Asheville, North Carolina</div>,\n",
       " <div class=\"address\">1304 W. Fourth Avenue, Seward, Alaska</div>,\n",
       " <div class=\"address\">352 <span class=\"highlighted\">Sunny</span> Hill Rd, Greenville, Catskill Region, New York</div>,\n",
       " <div class=\"address\">59th to 110th St., from Central Park West to 5th Ave., New York City, New York</div>,\n",
       " <div class=\"address\">18001 Collins Avenue, <span class=\"highlighted\">Sunny</span> Isles Beach, Florida</div>,\n",
       " <div class=\"address\">New York City, New York</div>,\n",
       " <div class=\"address\">Key West, Florida Keys, Florida</div>,\n",
       " <div class=\"address\">16701 Collins Avenue, <span class=\"highlighted\">Sunny</span> Isles Beach, Florida</div>,\n",
       " <div class=\"address\">18683 Collins Avenue, <span class=\"highlighted\">Sunny</span> Isles Beach, Florida</div>,\n",
       " <div class=\"address\">Lincoln Boulevard, near Doyle Drive and Fort Point, San Francisco, California</div>,\n",
       " <div class=\"address\">17315 Collins Avenue, <span class=\"highlighted\">Sunny</span> Isles Beach, Florida</div>,\n",
       " <div class=\"address\">425 <span class=\"highlighted\">Sunny</span> Rest Drive, Palmerton, Pocono Mountains Region, Pennsylvania</div>,\n",
       " <div class=\"address\">141 N Front St, Wilmington, North Carolina</div>,\n",
       " <div class=\"address\">42 E Superior St, Chicago, Illinois</div>,\n",
       " <div class=\"address\">22030 Stormy Lane, Bend, Central Oregon, Oregon</div>,\n",
       " <div class=\"address\">Route 3, Lincoln, New Hampshire</div>,\n",
       " <div class=\"address\">1325 Cave St, La Jolla, San Diego, California</div>,\n",
       " <div class=\"address\">19201 Collins Avenue, <span class=\"highlighted\">Sunny</span> Isles Beach, Florida</div>,\n",
       " <div class=\"address\">21610 E Cliff Dr., Santa Cruz, California</div>,\n",
       " <div class=\"address\">17875 Collins Avenue, <span class=\"highlighted\">Sunny</span> Isles Beach, Florida</div>,\n",
       " <div class=\"address\">30 Rockefeller Center, New York City, New York</div>,\n",
       " <div class=\"address\">822 Washington Blvd, Los Angeles, California</div>,\n",
       " <div class=\"address\">1750 Martin Luther King Jr Boulevard, Houma, Louisiana</div>,\n",
       " <div class=\"address\">Route 35 N and 6th Avenue, Ortley Beach, New Jersey</div>,\n",
       " <div class=\"address\">1069 State Route 18, East Brunswick, New Jersey</div>,\n",
       " <div class=\"address\">512 S Spring St, Mishawaka, Indiana</div>,\n",
       " <div class=\"address\">409 S E 1st Avenue, U S Highway #1, Florida City, Florida</div>,\n",
       " <div class=\"address\">4980 S Campbell Ave, Tucson, Arizona</div>,\n",
       " <div class=\"address\">101 South Main Street , Bel Air, Maryland</div>]"
      ]
     },
     "execution_count": 69,
     "metadata": {},
     "output_type": "execute_result"
    }
   ],
   "source": [
    "#myaddress"
   ]
  },
  {
   "cell_type": "code",
   "execution_count": 65,
   "metadata": {
    "collapsed": false
   },
   "outputs": [],
   "source": [
    "#def get_address(page):\n",
    "\n",
    "    #import re\n",
    "\n",
    "    #with open(page) as fin:\n",
    "     #   soup = BeautifulSoup(fin.read(),\"html.parser\")\n",
    "    \n",
    "\n",
    "    #myaddress = soup.find_all(\"div\", class_=\"address\")\n",
    "    #texts = []\n",
    "    #for address in myaddress:\n",
    "    #    stradd = str(address)\n",
    "        \n",
    "    #    des=stradd.replace('>',',').replace('<',',').split(',')\n",
    "    #    result=des[4]\n",
    "    #    texts.append(result)\n",
    "        \n",
    "    #return texts \n"
   ]
  },
  {
   "cell_type": "code",
   "execution_count": null,
   "metadata": {
    "collapsed": true
   },
   "outputs": [],
   "source": []
  },
  {
   "cell_type": "code",
   "execution_count": 66,
   "metadata": {
    "collapsed": false
   },
   "outputs": [
    {
     "data": {
      "text/plain": [
       "[' North Carolina',\n",
       " ' Alaska',\n",
       " 'Sunny',\n",
       " ' New York City',\n",
       " 'span class=\"highlighted\"',\n",
       " '/div',\n",
       " ' Florida',\n",
       " 'span class=\"highlighted\"',\n",
       " 'span class=\"highlighted\"',\n",
       " ' San Francisco',\n",
       " 'span class=\"highlighted\"',\n",
       " 'Sunny',\n",
       " ' North Carolina',\n",
       " ' Illinois',\n",
       " ' Central Oregon',\n",
       " ' New Hampshire',\n",
       " ' San Diego',\n",
       " 'span class=\"highlighted\"',\n",
       " ' California',\n",
       " 'span class=\"highlighted\"',\n",
       " ' New York',\n",
       " ' California',\n",
       " ' Louisiana',\n",
       " ' New Jersey',\n",
       " ' New Jersey',\n",
       " ' Indiana',\n",
       " ' Florida City',\n",
       " ' Arizona',\n",
       " ' Maryland']"
      ]
     },
     "execution_count": 66,
     "metadata": {},
     "output_type": "execute_result"
    }
   ],
   "source": [
    "#get_address(\"1.html\")"
   ]
  },
  {
   "cell_type": "code",
   "execution_count": 60,
   "metadata": {
    "collapsed": false
   },
   "outputs": [],
   "source": [
    "#texts = []\n",
    "#for address in mydivs:\n",
    "    texts.append(str(address))"
   ]
  },
  {
   "cell_type": "markdown",
   "metadata": {},
   "source": [
    "## Get all the reviews"
   ]
  },
  {
   "cell_type": "code",
   "execution_count": 1,
   "metadata": {
    "collapsed": true
   },
   "outputs": [],
   "source": [
    "from bs4 import BeautifulSoup"
   ]
  },
  {
   "cell_type": "code",
   "execution_count": 2,
   "metadata": {
    "collapsed": true
   },
   "outputs": [],
   "source": [
    "def get_reviews_links(page_soup):\n",
    "    ###this function only is used inside get_all_reviews_links\n",
    "\n",
    "    import re \n",
    "    \n",
    "    mytitles = page_soup.find_all(\"div\", class_=\"title\")\n",
    "    n = len(mytitles)\n",
    "    mytitles = mytitles[1:n]\n",
    "    \n",
    "    review_links = list()\n",
    "    \n",
    "    for i in range(0,len(mytitles)):\n",
    "        title = str(mytitles[i])\n",
    "        result = title.replace('0, \\'','***').replace('\\')\"><span>','***').split('***')\n",
    "        if len(result)>=2:\n",
    "            review_links.append(result[1])\n",
    "        \n",
    "    return review_links"
   ]
  },
  {
   "cell_type": "code",
   "execution_count": 3,
   "metadata": {
    "collapsed": false
   },
   "outputs": [],
   "source": [
    "def get_all_reviews_links(n=5):\n",
    "    review_links = list()\n",
    "    for i in range(1,n):\n",
    "        pagefile = \"%d.html\" %i\n",
    "        #print pagefile,n\n",
    "        with open(pagefile) as fin:\n",
    "            try:\n",
    "                soup = BeautifulSoup(fin.read(),\"html.parser\")\n",
    "                review_links.extend(get_reviews_links(soup))\n",
    "            except:\n",
    "                print \"error\"\n",
    "            \n",
    "    return review_links\n",
    "\n"
   ]
  },
  {
   "cell_type": "code",
   "execution_count": 4,
   "metadata": {
    "collapsed": false
   },
   "outputs": [
    {
     "name": "stdout",
     "output_type": "stream",
     "text": [
      "114\n",
      "['/Restaurant_Review-g60742-d1860575-Reviews-Sunny_Point_Cafe-Asheville_North_Carolina.html', '/Attraction_Review-g60873-d665300-Reviews-Sunny_Cove_Sea_Kayaking-Seward_Alaska.html', '/Hotel_Review-g47829-d587669-Reviews-Sunny_Hill_Resort_and_Golf_Course-Greenville_Catskill_Region_New_York.html', '/Attraction_Review-g60763-d105127-Reviews-Central_Park-New_York_City_New_York.html']\n"
     ]
    }
   ],
   "source": [
    "review_links = get_all_reviews_links()\n",
    "print len(review_links)\n",
    "print review_links[0:4]"
   ]
  },
  {
   "cell_type": "code",
   "execution_count": 5,
   "metadata": {
    "collapsed": false
   },
   "outputs": [
    {
     "name": "stdout",
     "output_type": "stream",
     "text": [
      "114\n",
      "['http://www.tripadvisor.com//Restaurant_Review-g60742-d1860575-Reviews-Sunny_Point_Cafe-Asheville_North_Carolina.html', 'http://www.tripadvisor.com//Attraction_Review-g60873-d665300-Reviews-Sunny_Cove_Sea_Kayaking-Seward_Alaska.html', 'http://www.tripadvisor.com//Hotel_Review-g47829-d587669-Reviews-Sunny_Hill_Resort_and_Golf_Course-Greenville_Catskill_Region_New_York.html']\n"
     ]
    }
   ],
   "source": [
    "links_format = \"http://www.tripadvisor.com/{}\"\n",
    "    \n",
    "links = [links_format.format(review_links[i])\n",
    "            for i in range(0,len(review_links))]\n",
    "\n",
    "print len(links)\n",
    "print links[0:3]\n",
    "    "
   ]
  },
  {
   "cell_type": "code",
   "execution_count": 6,
   "metadata": {
    "collapsed": false
   },
   "outputs": [
    {
     "data": {
      "text/plain": [
       "114"
      ]
     },
     "execution_count": 6,
     "metadata": {},
     "output_type": "execute_result"
    }
   ],
   "source": [
    "state = list()\n",
    "for i in range(0,len(review_links)):\n",
    "    linkname = review_links[i]\n",
    "    linkname = linkname.split('_')\n",
    "    n = len(linkname)\n",
    "    statename = linkname[n-1].split('.')[0]\n",
    "    state.append(statename)\n",
    "    \n",
    "## an indexes by state\n",
    "\n",
    "len(state)\n",
    "\n"
   ]
  },
  {
   "cell_type": "code",
   "execution_count": 7,
   "metadata": {
    "collapsed": true
   },
   "outputs": [],
   "source": [
    "#np.asarray(state).tofile(\"stateindex.csv\")"
   ]
  },
  {
   "cell_type": "code",
   "execution_count": 8,
   "metadata": {
    "collapsed": true
   },
   "outputs": [],
   "source": [
    "import os, requests\n",
    "def download_file(link, name):\n",
    "    if os.path.isfile(name):\n",
    "        return\n",
    "    file = open(name, 'w')\n",
    "    r = requests.get(link)\n",
    "    file.write(r.text)\n",
    "    file.close()\n"
   ]
  },
  {
   "cell_type": "code",
   "execution_count": 9,
   "metadata": {
    "collapsed": false
   },
   "outputs": [],
   "source": [
    "import sys\n",
    "reload(sys)\n",
    "sys.setdefaultencoding('utf-8')\n",
    "\n",
    "for i, link in enumerate(links):\n",
    "    if i % 50 == 0:\n",
    "        print(\"Done with %d..\" % i)\n",
    "    #sname = state[i]\n",
    "    download_file(link, \"reviews%d.html\" % i)"
   ]
  },
  {
   "cell_type": "code",
   "execution_count": 10,
   "metadata": {
    "collapsed": false
   },
   "outputs": [],
   "source": [
    "def get_reviews(reviewfile='reviews1.html'):\n",
    "    ##you should ensure you have imported re\n",
    "    ##return all the reviews associated with reviewsi.html in a list\n",
    "    \n",
    "    #index_dict = dict()\n",
    "    \n",
    "    with open(reviewfile) as fin:\n",
    "        soup = BeautifulSoup(fin.read(),\"html.parser\")\n",
    "    \n",
    "    myreviews = soup.find_all(\"div\",class_ = \"entry\")\n",
    "    lenth = len(myreviews)\n",
    "    myreviews = myreviews[1:lenth]\n",
    "    #index_dict[reviewfile] = lenth-1\n",
    "    \n",
    "    myrevs = list()\n",
    "    for myreview in myreviews:\n",
    "        myreview = str(myreview).split('\\n')[2]\n",
    "        myrevs.append(myreview)\n",
    "        \n",
    "    #print len(myrevs)\n",
    "    return (myrevs,lenth)"
   ]
  },
  {
   "cell_type": "code",
   "execution_count": 11,
   "metadata": {
    "collapsed": false
   },
   "outputs": [],
   "source": [
    "#reviewfile='reviews1.html'\n",
    "#index_dict = dict()\n",
    "#with open(reviewfile) as fin:\n",
    "#    soup = BeautifulSoup(fin.read(),\"html.parser\")"
   ]
  },
  {
   "cell_type": "code",
   "execution_count": 12,
   "metadata": {
    "collapsed": false
   },
   "outputs": [],
   "source": [
    "def get_all_reviews(reviews_file_list):\n",
    "    ###get a large list consists all the reviews for all the reviews*.html's\n",
    "    index_dic = dict()\n",
    "    all_reviews = list()\n",
    "    for i in range(0,len(reviews_file_list)):\n",
    "        reviewfile = reviews_file_list[i]\n",
    "        review_list = get_reviews(reviewfile)[0]\n",
    "        review_no = get_reviews(reviewfile)[1]\n",
    "        index_dic[reviewfile] = review_no\n",
    "        all_reviews.extend(review_list)\n",
    "        \n",
    "    return (all_reviews,index_dic)\n",
    "        \n",
    "        \n",
    "        \n",
    "    "
   ]
  },
  {
   "cell_type": "code",
   "execution_count": 13,
   "metadata": {
    "collapsed": false
   },
   "outputs": [],
   "source": [
    "###############get review list\n",
    "\n",
    "n = len(links)\n",
    "reviews_file_list = [\"reviews%d.html\" % i\n",
    "                    for i in range(0,n)]\n",
    "\n",
    "all_reviews = get_all_reviews(reviews_file_list)[0]\n",
    "index_list = get_all_reviews(reviews_file_list)[1]\n",
    "\n",
    "\n"
   ]
  },
  {
   "cell_type": "code",
   "execution_count": 14,
   "metadata": {
    "collapsed": false,
    "scrolled": true
   },
   "outputs": [
    {
     "data": {
      "text/plain": [
       "[\"This may be the definition of the perfect beach! Great for singles to walk aimlessly and for families as well. Lovely sand, ample parking..... Just perfect! Don't forget to stop by for sunset !\",\n",
       " 'Took the trolly to this little town at the end of the island and loved it!! We will be back in for another visit and possibly to stay in town!',\n",
       " 'Pass-a-Grille is a quaint little beach town at the southernmost end of St. Pete Beach. Certainly can understand why people rave about it: low key, laid back, charming and the way Florida used to be! Lovely view of the bay and Gulf of Mexico from the roof of the imposing Hurricane restaurant! Not a lot of touristy places or high-rise...',\n",
       " 'Love this sleepy beach town. Traveled mid week in late January. We had one beautiful weather day, one drizzly foggy day but both were perfect.',\n",
       " 'small area, pleasant, quaint, charm, beach. South of the Don Cesar. Good for bike riding except that some of the road is under construction (Dec 2015-Jan 2016). Nice sunset on the beach, sunrise on the bay. Quaint boutique hotels',\n",
       " \"Love this place so much we are returning in April and we have never vacationed in the same place twice. Everything you need is within walking distance. Great beach, friendly local restaurants, quaint shops. Almost don't want to give it good review and keep it all to ourselves!\",\n",
       " 'Pass-a-Grille has a lot of history. It has very little beach and too much tourism... Never a place to park, so take a bike, walk or trolley. I can not really recommend a fantastic restaurant there. Most places are bar food or just not the best...The shops are very over priced. It is a cute place to take a walk...',\n",
       " 'Fun area but we do drive there but well worth the drive. We stop there at least one every year. The Wrarf is a good place to go.',\n",
       " 'If you don\\'t believe the Title, just drive by on Gulf Way. The only building on the beach side is a Kiosk with bar and grill called \"Paradise Grill\". But that is far from what impresses. Miles long of beautiful, clean, white beach, beautiful blue-green crystal clear water, and the surf rolling in creating a melody of peace and tranquility....',\n",
       " 'Pass-a-grille is old school St Pete. I went to high school in St Pete and this was our beach. Basketball court across the street. Great beach walking. Go get a grouper sandwich at the Hurricane.']"
      ]
     },
     "execution_count": 14,
     "metadata": {},
     "output_type": "execute_result"
    }
   ],
   "source": [
    "all_reviews[0:10]"
   ]
  },
  {
   "cell_type": "code",
   "execution_count": 15,
   "metadata": {
    "collapsed": true
   },
   "outputs": [],
   "source": [
    "from gensim.models import  Word2Vec"
   ]
  },
  {
   "cell_type": "code",
   "execution_count": 42,
   "metadata": {
    "collapsed": false,
    "scrolled": true
   },
   "outputs": [],
   "source": [
    "import numpy as np\n",
    "import pandas as pd\n",
    "from scipy import linalg\n",
    "from nltk.corpus import stopwords\n",
    "import argparse\n",
    "from utils import tokenize"
   ]
  },
  {
   "cell_type": "code",
   "execution_count": 43,
   "metadata": {
    "collapsed": false
   },
   "outputs": [],
   "source": [
    "import os\n",
    "os.getcwd()\n",
    "os.chdir('D:\\\\Hackothon')"
   ]
  },
  {
   "cell_type": "code",
   "execution_count": null,
   "metadata": {
    "collapsed": true
   },
   "outputs": [],
   "source": []
  },
  {
   "cell_type": "code",
   "execution_count": 24,
   "metadata": {
    "collapsed": false
   },
   "outputs": [],
   "source": [
    "stop = stopwords.words('english')"
   ]
  },
  {
   "cell_type": "code",
   "execution_count": 28,
   "metadata": {
    "collapsed": false
   },
   "outputs": [],
   "source": [
    "word2vec = {}\n",
    "with open(\"glove.6B.\" + str(300) + \"d.txt\") as f:\n",
    "    for line in f:    \n",
    "        l = line.split()\n",
    "        word2vec[l[0]] = map(float, l[1:])"
   ]
  },
  {
   "cell_type": "code",
   "execution_count": 142,
   "metadata": {
    "collapsed": false
   },
   "outputs": [
    {
     "data": {
      "text/plain": [
       "['Carolina',\n",
       " 'Alaska',\n",
       " 'York',\n",
       " 'York',\n",
       " 'Florida',\n",
       " 'York',\n",
       " 'Florida',\n",
       " 'Florida',\n",
       " 'Florida',\n",
       " 'California',\n",
       " 'Florida',\n",
       " 'Pennsylvania',\n",
       " 'Carolina',\n",
       " 'Illinois',\n",
       " 'Oregon',\n",
       " 'Hampshire',\n",
       " 'California',\n",
       " 'Florida',\n",
       " 'California',\n",
       " 'Florida',\n",
       " 'York',\n",
       " 'California',\n",
       " 'Louisiana',\n",
       " 'Jersey',\n",
       " 'Jersey',\n",
       " 'Indiana',\n",
       " 'Florida',\n",
       " 'Arizona',\n",
       " 'Maryland',\n",
       " 'Carolina',\n",
       " 'Alaska',\n",
       " 'York',\n",
       " 'York',\n",
       " 'Florida',\n",
       " 'York',\n",
       " 'Florida',\n",
       " 'Florida',\n",
       " 'Florida',\n",
       " 'California',\n",
       " 'Florida',\n",
       " 'Pennsylvania',\n",
       " 'Carolina',\n",
       " 'Illinois',\n",
       " 'Oregon',\n",
       " 'Hampshire',\n",
       " 'California',\n",
       " 'Florida',\n",
       " 'California',\n",
       " 'Florida',\n",
       " 'York',\n",
       " 'California',\n",
       " 'Louisiana',\n",
       " 'Jersey',\n",
       " 'Jersey',\n",
       " 'Indiana',\n",
       " 'Florida',\n",
       " 'Arizona',\n",
       " 'Maryland',\n",
       " 'Carolina',\n",
       " 'Florida',\n",
       " 'Florida',\n",
       " 'Oregon',\n",
       " 'Carolina',\n",
       " 'Carolina',\n",
       " 'Texas',\n",
       " 'Florida',\n",
       " 'Georgia',\n",
       " 'California',\n",
       " 'Florida',\n",
       " 'California',\n",
       " 'California',\n",
       " 'Hawaii',\n",
       " 'Florida',\n",
       " 'Alaska',\n",
       " 'Hawaii',\n",
       " 'Hawaii',\n",
       " 'Washington',\n",
       " 'California',\n",
       " 'California',\n",
       " 'Carolina',\n",
       " 'Florida',\n",
       " 'California',\n",
       " 'California',\n",
       " 'California',\n",
       " 'Hawaii',\n",
       " 'Jersey',\n",
       " 'Carolina',\n",
       " 'Florida',\n",
       " 'Florida',\n",
       " 'Oregon',\n",
       " 'Carolina',\n",
       " 'Carolina',\n",
       " 'Texas',\n",
       " 'Florida',\n",
       " 'Georgia',\n",
       " 'California',\n",
       " 'Florida',\n",
       " 'California',\n",
       " 'California',\n",
       " 'Hawaii',\n",
       " 'Florida',\n",
       " 'Alaska',\n",
       " 'Hawaii',\n",
       " 'Hawaii',\n",
       " 'Washington',\n",
       " 'California',\n",
       " 'California',\n",
       " 'Carolina',\n",
       " 'Florida',\n",
       " 'California',\n",
       " 'California',\n",
       " 'California',\n",
       " 'Hawaii',\n",
       " 'Jersey']"
      ]
     },
     "execution_count": 142,
     "metadata": {},
     "output_type": "execute_result"
    }
   ],
   "source": [
    "state"
   ]
  },
  {
   "cell_type": "code",
   "execution_count": 63,
   "metadata": {
    "collapsed": false
   },
   "outputs": [
    {
     "data": {
      "text/plain": [
       "{'reviews0.html': 0,\n",
       " 'reviews1.html': 11,\n",
       " 'reviews10.html': 10,\n",
       " 'reviews100.html': 10,\n",
       " 'reviews101.html': 11,\n",
       " 'reviews102.html': 11,\n",
       " 'reviews103.html': 11,\n",
       " 'reviews104.html': 11,\n",
       " 'reviews105.html': 10,\n",
       " 'reviews106.html': 10,\n",
       " 'reviews107.html': 11,\n",
       " 'reviews108.html': 11,\n",
       " 'reviews109.html': 10,\n",
       " 'reviews11.html': 10,\n",
       " 'reviews110.html': 11,\n",
       " 'reviews111.html': 10,\n",
       " 'reviews112.html': 11,\n",
       " 'reviews113.html': 10,\n",
       " 'reviews12.html': 11,\n",
       " 'reviews13.html': 11,\n",
       " 'reviews14.html': 10,\n",
       " 'reviews15.html': 11,\n",
       " 'reviews16.html': 11,\n",
       " 'reviews17.html': 10,\n",
       " 'reviews18.html': 10,\n",
       " 'reviews19.html': 10,\n",
       " 'reviews2.html': 10,\n",
       " 'reviews20.html': 11,\n",
       " 'reviews21.html': 11,\n",
       " 'reviews22.html': 6,\n",
       " 'reviews23.html': 11,\n",
       " 'reviews24.html': 11,\n",
       " 'reviews25.html': 11,\n",
       " 'reviews26.html': 8,\n",
       " 'reviews27.html': 11,\n",
       " 'reviews28.html': 11,\n",
       " 'reviews29.html': 11,\n",
       " 'reviews3.html': 11,\n",
       " 'reviews30.html': 11,\n",
       " 'reviews31.html': 10,\n",
       " 'reviews32.html': 11,\n",
       " 'reviews33.html': 10,\n",
       " 'reviews34.html': 11,\n",
       " 'reviews35.html': 11,\n",
       " 'reviews36.html': 10,\n",
       " 'reviews37.html': 10,\n",
       " 'reviews38.html': 11,\n",
       " 'reviews39.html': 10,\n",
       " 'reviews4.html': 10,\n",
       " 'reviews40.html': 10,\n",
       " 'reviews41.html': 11,\n",
       " 'reviews42.html': 11,\n",
       " 'reviews43.html': 10,\n",
       " 'reviews44.html': 11,\n",
       " 'reviews45.html': 11,\n",
       " 'reviews46.html': 10,\n",
       " 'reviews47.html': 10,\n",
       " 'reviews48.html': 10,\n",
       " 'reviews49.html': 11,\n",
       " 'reviews5.html': 11,\n",
       " 'reviews50.html': 11,\n",
       " 'reviews51.html': 6,\n",
       " 'reviews52.html': 11,\n",
       " 'reviews53.html': 11,\n",
       " 'reviews54.html': 11,\n",
       " 'reviews55.html': 8,\n",
       " 'reviews56.html': 11,\n",
       " 'reviews57.html': 11,\n",
       " 'reviews58.html': 10,\n",
       " 'reviews59.html': 11,\n",
       " 'reviews6.html': 11,\n",
       " 'reviews60.html': 11,\n",
       " 'reviews61.html': 11,\n",
       " 'reviews62.html': 11,\n",
       " 'reviews63.html': 10,\n",
       " 'reviews64.html': 11,\n",
       " 'reviews65.html': 10,\n",
       " 'reviews66.html': 11,\n",
       " 'reviews67.html': 11,\n",
       " 'reviews68.html': 10,\n",
       " 'reviews69.html': 11,\n",
       " 'reviews7.html': 10,\n",
       " 'reviews70.html': 11,\n",
       " 'reviews71.html': 11,\n",
       " 'reviews72.html': 10,\n",
       " 'reviews73.html': 11,\n",
       " 'reviews74.html': 11,\n",
       " 'reviews75.html': 11,\n",
       " 'reviews76.html': 11,\n",
       " 'reviews77.html': 10,\n",
       " 'reviews78.html': 10,\n",
       " 'reviews79.html': 11,\n",
       " 'reviews8.html': 10,\n",
       " 'reviews80.html': 11,\n",
       " 'reviews81.html': 10,\n",
       " 'reviews82.html': 11,\n",
       " 'reviews83.html': 10,\n",
       " 'reviews84.html': 11,\n",
       " 'reviews85.html': 10,\n",
       " 'reviews86.html': 10,\n",
       " 'reviews87.html': 11,\n",
       " 'reviews88.html': 11,\n",
       " 'reviews89.html': 11,\n",
       " 'reviews9.html': 11,\n",
       " 'reviews90.html': 11,\n",
       " 'reviews91.html': 10,\n",
       " 'reviews92.html': 11,\n",
       " 'reviews93.html': 10,\n",
       " 'reviews94.html': 11,\n",
       " 'reviews95.html': 11,\n",
       " 'reviews96.html': 10,\n",
       " 'reviews97.html': 11,\n",
       " 'reviews98.html': 11,\n",
       " 'reviews99.html': 11}"
      ]
     },
     "execution_count": 63,
     "metadata": {},
     "output_type": "execute_result"
    }
   ],
   "source": [
    "index_list"
   ]
  },
  {
   "cell_type": "code",
   "execution_count": 64,
   "metadata": {
    "collapsed": false
   },
   "outputs": [],
   "source": [
    "def get_wordvec(sentences):\n",
    "    m = len(sentences)\n",
    "    for i in range(m):\n",
    "        #calculate word2vec for question\n",
    "        q_vec = np.zeros(300)\n",
    "        for w in tokenize(sentences[i]):\n",
    "            if w.lower() in word2vec and w.lower() not in stop:\n",
    "                q_vec += word2vec[w.lower()]\n",
    "                q_vec = q_vec / linalg.norm(q_vec)\n",
    "    return q_vec"
   ]
  },
  {
   "cell_type": "code",
   "execution_count": 160,
   "metadata": {
    "collapsed": false
   },
   "outputs": [],
   "source": [
    "ads = get_wordvec(sentences)\n",
    "ak = get_wordvec(all_reviews[1:11])\n",
    "ny = get_wordvec(all_reviews[180:190])\n",
    "fl = get_wordvec(all_reviews[70:80])"
   ]
  },
  {
   "cell_type": "code",
   "execution_count": 161,
   "metadata": {
    "collapsed": false
   },
   "outputs": [
    {
     "data": {
      "text/plain": [
       "0.19307298652949165"
      ]
     },
     "execution_count": 161,
     "metadata": {},
     "output_type": "execute_result"
    }
   ],
   "source": [
    "ads.dot(ak)"
   ]
  },
  {
   "cell_type": "code",
   "execution_count": 162,
   "metadata": {
    "collapsed": false
   },
   "outputs": [
    {
     "data": {
      "text/plain": [
       "0.18454924970243464"
      ]
     },
     "execution_count": 162,
     "metadata": {},
     "output_type": "execute_result"
    }
   ],
   "source": [
    "ads.dot(ny)"
   ]
  },
  {
   "cell_type": "code",
   "execution_count": 163,
   "metadata": {
    "collapsed": false
   },
   "outputs": [
    {
     "data": {
      "text/plain": [
       "0.065246867485734064"
      ]
     },
     "execution_count": 163,
     "metadata": {},
     "output_type": "execute_result"
    }
   ],
   "source": [
    "ads.dot(fl)"
   ]
  },
  {
   "cell_type": "code",
   "execution_count": 124,
   "metadata": {
    "collapsed": false
   },
   "outputs": [
    {
     "data": {
      "text/plain": [
       "['As a person living in the southern part of the country, watching snow should definitely be top 3 in my list. Building a snowman with cute carrot nose, having a snowball fight or skiing with friends all seem attractive for me.']"
      ]
     },
     "execution_count": 124,
     "metadata": {},
     "output_type": "execute_result"
    }
   ],
   "source": [
    "sentences"
   ]
  },
  {
   "cell_type": "code",
   "execution_count": 116,
   "metadata": {
    "collapsed": false
   },
   "outputs": [
    {
     "ename": "RuntimeError",
     "evalue": "No environment variable R_HOME could be found, calling the command 'R RHOME' does not return anything, and unable to import win32api or win32con, both of which being needed to retrieve where is R from the registry. You should either specify R_HOME or install the win32 package.",
     "output_type": "error",
     "traceback": [
      "\u001b[1;31m---------------------------------------------------------------------------\u001b[0m",
      "\u001b[1;31mRuntimeError\u001b[0m                              Traceback (most recent call last)",
      "\u001b[1;32m<ipython-input-116-f5b74c36678a>\u001b[0m in \u001b[0;36m<module>\u001b[1;34m()\u001b[0m\n\u001b[0;32m      1\u001b[0m \u001b[1;32mimport\u001b[0m \u001b[0mrpy2\u001b[0m\u001b[1;33m\u001b[0m\u001b[0m\n\u001b[1;32m----> 2\u001b[1;33m \u001b[1;32mimport\u001b[0m \u001b[0mrpy2\u001b[0m\u001b[1;33m.\u001b[0m\u001b[0mrobjects\u001b[0m \u001b[1;32mas\u001b[0m \u001b[0mrobjects\u001b[0m\u001b[1;33m\u001b[0m\u001b[0m\n\u001b[0m",
      "\u001b[1;32mC:\\Anaconda3\\envs\\python2\\lib\\site-packages\\rpy2\\robjects\\__init__.py\u001b[0m in \u001b[0;36m<module>\u001b[1;34m()\u001b[0m\n\u001b[0;32m     13\u001b[0m \u001b[1;32mimport\u001b[0m \u001b[0mitertools\u001b[0m\u001b[1;33m\u001b[0m\u001b[0m\n\u001b[0;32m     14\u001b[0m \u001b[1;32mfrom\u001b[0m \u001b[0mdatetime\u001b[0m \u001b[1;32mimport\u001b[0m \u001b[0mdatetime\u001b[0m\u001b[1;33m\u001b[0m\u001b[0m\n\u001b[1;32m---> 15\u001b[1;33m \u001b[1;32mimport\u001b[0m \u001b[0mrpy2\u001b[0m\u001b[1;33m.\u001b[0m\u001b[0mrinterface\u001b[0m \u001b[1;32mas\u001b[0m \u001b[0mrinterface\u001b[0m\u001b[1;33m\u001b[0m\u001b[0m\n\u001b[0m\u001b[0;32m     16\u001b[0m \u001b[1;32mimport\u001b[0m \u001b[0mrpy2\u001b[0m\u001b[1;33m.\u001b[0m\u001b[0mrlike\u001b[0m\u001b[1;33m.\u001b[0m\u001b[0mcontainer\u001b[0m \u001b[1;32mas\u001b[0m \u001b[0mrlc\u001b[0m\u001b[1;33m\u001b[0m\u001b[0m\n\u001b[0;32m     17\u001b[0m \u001b[1;33m\u001b[0m\u001b[0m\n",
      "\u001b[1;32mC:\\Anaconda3\\envs\\python2\\lib\\site-packages\\rpy2\\rinterface\\__init__.py\u001b[0m in \u001b[0;36m<module>\u001b[1;34m()\u001b[0m\n\u001b[0;32m     37\u001b[0m                     \u001b[1;34m\"both of which being needed to retrieve where is R \"\u001b[0m\u001b[1;33m+\u001b[0m\u001b[0;31m\\\u001b[0m\u001b[1;33m\u001b[0m\u001b[0m\n\u001b[0;32m     38\u001b[0m                     \u001b[1;34m\"from the registry. You should either specify R_HOME \"\u001b[0m \u001b[1;33m+\u001b[0m\u001b[0;31m\\\u001b[0m\u001b[1;33m\u001b[0m\u001b[0m\n\u001b[1;32m---> 39\u001b[1;33m                     \"or install the win32 package.\")\n\u001b[0m\u001b[0;32m     40\u001b[0m         \u001b[1;32mexcept\u001b[0m\u001b[1;33m:\u001b[0m\u001b[1;33m\u001b[0m\u001b[0m\n\u001b[0;32m     41\u001b[0m             raise RuntimeError(\n",
      "\u001b[1;31mRuntimeError\u001b[0m: No environment variable R_HOME could be found, calling the command 'R RHOME' does not return anything, and unable to import win32api or win32con, both of which being needed to retrieve where is R from the registry. You should either specify R_HOME or install the win32 package."
     ]
    }
   ],
   "source": [
    "#import rpy2\n",
    "#import rpy2.robjects as robjects"
   ]
  },
  {
   "cell_type": "code",
   "execution_count": 85,
   "metadata": {
    "collapsed": false
   },
   "outputs": [],
   "source": [
    "def read():\n",
    "    res = {}\n",
    "    with open(\"scrape.txt\",\"r\") as text:\n",
    "        for line in text:\n",
    "            key, value = line.split()\n",
    "            res[key] = int(value)\n",
    "    return res\n",
    "    "
   ]
  },
  {
   "cell_type": "code",
   "execution_count": 98,
   "metadata": {
    "collapsed": false
   },
   "outputs": [],
   "source": [
    "#rr = list()\n",
    "#with open(\"scrape.txt\") as f:\n",
    "#    for line in f:    \n",
    "#        l = line.split('\\t')\n",
    "#        rr.append(l)"
   ]
  },
  {
   "cell_type": "code",
   "execution_count": 111,
   "metadata": {
    "collapsed": false
   },
   "outputs": [
    {
     "data": {
      "text/plain": [
       "['[\"The',\n",
       " 'check',\n",
       " 'in',\n",
       " 'staff',\n",
       " 'was',\n",
       " 'bordering',\n",
       " 'on',\n",
       " 'abrupt',\n",
       " 'and...',\n",
       " 'Bellingrath',\n",
       " 'is',\n",
       " 'really',\n",
       " 'pretty',\n",
       " 'and',\n",
       " 'we',\n",
       " 'go',\n",
       " 'there',\n",
       " 'every',\n",
       " 'year.',\n",
       " 'But',\n",
       " 'this',\n",
       " 'year',\n",
       " 'when',\n",
       " 'we',\n",
       " 'went',\n",
       " 'this',\n",
       " 'year',\n",
       " 'we',\n",
       " 'tried',\n",
       " 'to',\n",
       " 'take',\n",
       " 'a',\n",
       " 'picture',\n",
       " 'with',\n",
       " 'the',\n",
       " 'Coca',\n",
       " 'Cola...',\n",
       " 'Beds',\n",
       " 'were',\n",
       " 'too',\n",
       " 'tall.',\n",
       " 'should',\n",
       " 'supply',\n",
       " 'steps',\n",
       " 'for',\n",
       " 'getting',\n",
       " 'into',\n",
       " 'these',\n",
       " 'very',\n",
       " 'tall',\n",
       " 'beds..',\n",
       " 'Front',\n",
       " 'desk',\n",
       " 'very',\n",
       " 'helpful',\n",
       " 'in',\n",
       " 'helping',\n",
       " 'us',\n",
       " 'find',\n",
       " 'a',\n",
       " 'good',\n",
       " 'place',\n",
       " 'to...',\n",
       " 'Took',\n",
       " 'out',\n",
       " 'of',\n",
       " 'town',\n",
       " 'guests',\n",
       " 'there',\n",
       " 'and',\n",
       " 'we',\n",
       " 'all',\n",
       " 'liked',\n",
       " 'what',\n",
       " 'we',\n",
       " 'got-',\n",
       " 'Nice',\n",
       " 'fast',\n",
       " 'service',\n",
       " 'and',\n",
       " 'very',\n",
       " 'clean',\n",
       " 'favility',\n",
       " 'well',\n",
       " 'located',\n",
       " 'and',\n",
       " 'easy',\n",
       " 'to',\n",
       " 'get',\n",
       " 'to',\n",
       " 'I',\n",
       " 'eat',\n",
       " 'here',\n",
       " 'at',\n",
       " 'least',\n",
       " '2',\n",
       " '-',\n",
       " '3',\n",
       " 'times',\n",
       " 'a',\n",
       " 'month.',\n",
       " 'Great',\n",
       " 'service',\n",
       " 'and',\n",
       " 'good',\n",
       " 'food.',\n",
       " 'What',\n",
       " 'more',\n",
       " 'can',\n",
       " 'you',\n",
       " 'ask',\n",
       " 'for?',\n",
       " 'Plus,',\n",
       " 'great',\n",
       " 'portions.',\n",
       " 'I',\n",
       " 'liked',\n",
       " 'their',\n",
       " 'chicken',\n",
       " 'club,',\n",
       " 'but',\n",
       " 'I',\n",
       " \"didn't\",\n",
       " 'really',\n",
       " 'like',\n",
       " 'their',\n",
       " 'catfish.',\n",
       " 'Just',\n",
       " \"wasn't\",\n",
       " 'really',\n",
       " 'my',\n",
       " 'taste.',\n",
       " 'The',\n",
       " 'fries',\n",
       " 'and',\n",
       " 'chips',\n",
       " 'were',\n",
       " 'both',\n",
       " 'good....',\n",
       " 'great',\n",
       " 'variety',\n",
       " 'of',\n",
       " 'food',\n",
       " 'and',\n",
       " 'desserts',\n",
       " 'and',\n",
       " 'everything',\n",
       " 'was',\n",
       " 'very',\n",
       " 'clean',\n",
       " 'even',\n",
       " 'the',\n",
       " 'floor.',\n",
       " 'everybody',\n",
       " 'was',\n",
       " 'nice',\n",
       " 'and',\n",
       " 'reasonably',\n",
       " 'priced.',\n",
       " 'i',\n",
       " 'am',\n",
       " 'really',\n",
       " 'grateful',\n",
       " 'that',\n",
       " 'we',\n",
       " 'had',\n",
       " 'a',\n",
       " '50%',\n",
       " 'discount',\n",
       " 'from',\n",
       " 'the',\n",
       " 'hotel.',\n",
       " 'we',\n",
       " 'had',\n",
       " 'wings,',\n",
       " 'fries',\n",
       " 'and',\n",
       " 'chicken',\n",
       " 'dinner,',\n",
       " '2',\n",
       " 'rolls',\n",
       " 'and',\n",
       " 'water.',\n",
       " 'the',\n",
       " 'food',\n",
       " 'was...',\n",
       " 'We',\n",
       " 'got',\n",
       " 'the',\n",
       " 'hurricane',\n",
       " 'nachos',\n",
       " 'they',\n",
       " 'were',\n",
       " 'very',\n",
       " 'good.',\n",
       " 'I',\n",
       " 'got',\n",
       " 'the',\n",
       " 'pulled',\n",
       " 'pork',\n",
       " 'quesadillas',\n",
       " 'they',\n",
       " 'were',\n",
       " 'excellent.',\n",
       " 'My',\n",
       " 'husband',\n",
       " 'got',\n",
       " 'the',\n",
       " 'Mahi',\n",
       " 'Mahi',\n",
       " 'tacos...',\n",
       " 'I',\n",
       " 'have',\n",
       " 'been',\n",
       " 'to',\n",
       " 'Todd',\n",
       " 'English',\n",
       " 'Pub,',\n",
       " 'both',\n",
       " 'here',\n",
       " 'and',\n",
       " 'in',\n",
       " 'Las',\n",
       " 'Vegas.\\\\n\"]']"
      ]
     },
     "execution_count": 111,
     "metadata": {},
     "output_type": "execute_result"
    }
   ],
   "source": [
    "#str(rr[8]).split(' ')"
   ]
  },
  {
   "cell_type": "code",
   "execution_count": 79,
   "metadata": {
    "collapsed": false
   },
   "outputs": [
    {
     "data": {
      "text/plain": [
       "9682"
      ]
     },
     "execution_count": 79,
     "metadata": {},
     "output_type": "execute_result"
    }
   ],
   "source": [
    "NN = len(d)\n",
    "d = d[1:NN]\n",
    "len(d)"
   ]
  },
  {
   "cell_type": "code",
   "execution_count": 78,
   "metadata": {
    "collapsed": false
   },
   "outputs": [
    {
     "ename": "IndexError",
     "evalue": "list index out of range",
     "output_type": "error",
     "traceback": [
      "\u001b[1;31m---------------------------------------------------------------------------\u001b[0m",
      "\u001b[1;31mIndexError\u001b[0m                                Traceback (most recent call last)",
      "\u001b[1;32m<ipython-input-78-45ed83c04f36>\u001b[0m in \u001b[0;36m<module>\u001b[1;34m()\u001b[0m\n\u001b[0;32m      1\u001b[0m \u001b[0mstates\u001b[0m \u001b[1;33m=\u001b[0m \u001b[0mlist\u001b[0m\u001b[1;33m(\u001b[0m\u001b[1;33m)\u001b[0m\u001b[1;33m\u001b[0m\u001b[0m\n\u001b[0;32m      2\u001b[0m \u001b[1;32mfor\u001b[0m \u001b[0mi\u001b[0m \u001b[1;32min\u001b[0m \u001b[0mrange\u001b[0m\u001b[1;33m(\u001b[0m\u001b[0mlen\u001b[0m\u001b[1;33m(\u001b[0m\u001b[0md\u001b[0m\u001b[1;33m)\u001b[0m\u001b[1;33m)\u001b[0m\u001b[1;33m:\u001b[0m\u001b[1;33m\u001b[0m\u001b[0m\n\u001b[1;32m----> 3\u001b[1;33m     \u001b[0mstates\u001b[0m\u001b[1;33m.\u001b[0m\u001b[0mappend\u001b[0m\u001b[1;33m(\u001b[0m\u001b[0md\u001b[0m\u001b[1;33m[\u001b[0m\u001b[0mi\u001b[0m\u001b[1;33m]\u001b[0m\u001b[1;33m[\u001b[0m\u001b[1;36m0\u001b[0m\u001b[1;33m]\u001b[0m\u001b[1;33m)\u001b[0m\u001b[1;33m\u001b[0m\u001b[0m\n\u001b[0m",
      "\u001b[1;31mIndexError\u001b[0m: list index out of range"
     ]
    }
   ],
   "source": [
    "#states = list()\n",
    "#for i in range(len(d)):\n",
    "#    states.append(d[i][0])"
   ]
  },
  {
   "cell_type": "code",
   "execution_count": 80,
   "metadata": {
    "collapsed": false
   },
   "outputs": [
    {
     "data": {
      "text/plain": [
       "'Alabama'"
      ]
     },
     "execution_count": 80,
     "metadata": {},
     "output_type": "execute_result"
    }
   ],
   "source": []
  },
  {
   "cell_type": "code",
   "execution_count": 117,
   "metadata": {
    "collapsed": false
   },
   "outputs": [],
   "source": [
    "sentences = [\"As a person living in the southern part of the country, watching snow should definitely be top 3 in my list. Building a snowman with cute carrot nose, having a snowball fight or skiing with friends all seem attractive for me.\"]"
   ]
  },
  {
   "cell_type": "code",
   "execution_count": 60,
   "metadata": {
    "collapsed": true
   },
   "outputs": [],
   "source": [
    "sen_n = len(sentences)\n",
    "for i in range(sen_n):\n",
    "    #calculate word2vec for question\n",
    "    a_vec = np.zeros(300)\n",
    "    for w in tokenize(sentences[i]):\n",
    "        if w.lower() in word2vec and w.lower() not in stop:\n",
    "            a_vec += word2vec[w.lower()]\n",
    "            a_vec = a_vec / linalg.norm(a_vec)"
   ]
  },
  {
   "cell_type": "code",
   "execution_count": 62,
   "metadata": {
    "collapsed": false
   },
   "outputs": [
    {
     "data": {
      "text/plain": [
       "0.44346464063535163"
      ]
     },
     "execution_count": 62,
     "metadata": {},
     "output_type": "execute_result"
    }
   ],
   "source": [
    "q_vec.dot(a_vec)"
   ]
  },
  {
   "cell_type": "code",
   "execution_count": 23,
   "metadata": {
    "collapsed": false
   },
   "outputs": [],
   "source": [
    "import csv\n",
    "\n",
    "with open('index_state.csv', 'wb') as f:  # Just use 'w' mode in 3.x\n",
    "    w = csv.DictWriter(f, index_list.keys())\n",
    "    w.writeheader()\n",
    "    w.writerow(index_list)"
   ]
  },
  {
   "cell_type": "code",
   "execution_count": 70,
   "metadata": {
    "collapsed": false
   },
   "outputs": [],
   "source": [
    "import numpy as np\n"
   ]
  },
  {
   "cell_type": "code",
   "execution_count": 71,
   "metadata": {
    "collapsed": false
   },
   "outputs": [],
   "source": [
    "all_reviews_df = np.asarray(all_reviews)"
   ]
  },
  {
   "cell_type": "code",
   "execution_count": 60,
   "metadata": {
    "collapsed": false
   },
   "outputs": [],
   "source": [
    "import csv\n",
    "\n",
    "#Assuming res is a flat list\n",
    "with open('reviews.csv', \"w\") as output:\n",
    "    writer = csv.writer(output, lineterminator='\\n')\n",
    "    for val in all_reviews:\n",
    "        writer.writerow([val])"
   ]
  },
  {
   "cell_type": "code",
   "execution_count": 58,
   "metadata": {
    "collapsed": false
   },
   "outputs": [
    {
     "data": {
      "text/plain": [
       "1074"
      ]
     },
     "execution_count": 58,
     "metadata": {},
     "output_type": "execute_result"
    }
   ],
   "source": [
    "len(all_reviews)"
   ]
  },
  {
   "cell_type": "code",
   "execution_count": 62,
   "metadata": {
    "collapsed": false
   },
   "outputs": [
    {
     "data": {
      "text/plain": [
       "9.421052631578947"
      ]
     },
     "execution_count": 62,
     "metadata": {},
     "output_type": "execute_result"
    }
   ],
   "source": [
    "1074.0/114"
   ]
  },
  {
   "cell_type": "code",
   "execution_count": 59,
   "metadata": {
    "collapsed": false
   },
   "outputs": [
    {
     "data": {
      "text/plain": [
       "[\"This may be the definition of the perfect beach! Great for singles to walk aimlessly and for families as well. Lovely sand, ample parking..... Just perfect! Don't forget to stop by for sunset !\",\n",
       " 'Took the trolly to this little town at the end of the island and loved it!! We will be back in for another visit and possibly to stay in town!',\n",
       " 'Pass-a-Grille is a quaint little beach town at the southernmost end of St. Pete Beach. Certainly can understand why people rave about it: low key, laid back, charming and the way Florida used to be! Lovely view of the bay and Gulf of Mexico from the roof of the imposing Hurricane restaurant! Not a lot of touristy places or high-rise...',\n",
       " 'Love this sleepy beach town. Traveled mid week in late January. We had one beautiful weather day, one drizzly foggy day but both were perfect.',\n",
       " 'small area, pleasant, quaint, charm, beach. South of the Don Cesar. Good for bike riding except that some of the road is under construction (Dec 2015-Jan 2016). Nice sunset on the beach, sunrise on the bay. Quaint boutique hotels',\n",
       " \"Love this place so much we are returning in April and we have never vacationed in the same place twice. Everything you need is within walking distance. Great beach, friendly local restaurants, quaint shops. Almost don't want to give it good review and keep it all to ourselves!\",\n",
       " 'Pass-a-Grille has a lot of history. It has very little beach and too much tourism... Never a place to park, so take a bike, walk or trolley. I can not really recommend a fantastic restaurant there. Most places are bar food or just not the best...The shops are very over priced. It is a cute place to take a walk...',\n",
       " 'Fun area but we do drive there but well worth the drive. We stop there at least one every year. The Wrarf is a good place to go.',\n",
       " 'If you don\\'t believe the Title, just drive by on Gulf Way. The only building on the beach side is a Kiosk with bar and grill called \"Paradise Grill\". But that is far from what impresses. Miles long of beautiful, clean, white beach, beautiful blue-green crystal clear water, and the surf rolling in creating a melody of peace and tranquility....',\n",
       " 'Pass-a-grille is old school St Pete. I went to high school in St Pete and this was our beach. Basketball court across the street. Great beach walking. Go get a grouper sandwich at the Hurricane.']"
      ]
     },
     "execution_count": 59,
     "metadata": {},
     "output_type": "execute_result"
    }
   ],
   "source": [
    "all_reviews[0:10]\n"
   ]
  },
  {
   "cell_type": "code",
   "execution_count": 29,
   "metadata": {
    "collapsed": false
   },
   "outputs": [
    {
     "data": {
      "text/plain": [
       "11"
      ]
     },
     "execution_count": 29,
     "metadata": {},
     "output_type": "execute_result"
    }
   ],
   "source": [
    "#len(myreviews)"
   ]
  },
  {
   "cell_type": "code",
   "execution_count": 37,
   "metadata": {
    "collapsed": false
   },
   "outputs": [],
   "source": [
    "#lenth = len(myreviews)\n",
    "#myreviews = myreviews[1:lenth]"
   ]
  },
  {
   "cell_type": "code",
   "execution_count": 40,
   "metadata": {
    "collapsed": false
   },
   "outputs": [],
   "source": [
    "#myrevs = list()\n",
    "#for myreview in myreviews:\n",
    "#    myrevs.append(str(myreview))"
   ]
  },
  {
   "cell_type": "code",
   "execution_count": 49,
   "metadata": {
    "collapsed": false
   },
   "outputs": [],
   "source": [
    "#myrevs = list()\n",
    "#for myreview in myreviews:\n",
    "#    myrevs.append(str(myreview))"
   ]
  },
  {
   "cell_type": "code",
   "execution_count": 10,
   "metadata": {
    "collapsed": false
   },
   "outputs": [],
   "source": [
    "#import csv\n",
    "\n",
    "#Assuming res is a flat list\n",
    "#with open('statename.csv', \"w\") as output:\n",
    "#    writer = csv.writer(output, lineterminator='\\n')\n",
    "#    for val in state:\n",
    "#        writer.writerow([val])"
   ]
  },
  {
   "cell_type": "code",
   "execution_count": 7,
   "metadata": {
    "collapsed": false
   },
   "outputs": [
    {
     "data": {
      "text/plain": [
       "['Carolina',\n",
       " 'Alaska',\n",
       " 'York',\n",
       " 'York',\n",
       " 'Florida',\n",
       " 'York',\n",
       " 'Florida',\n",
       " 'Florida',\n",
       " 'Florida',\n",
       " 'California',\n",
       " 'Florida',\n",
       " 'Pennsylvania',\n",
       " 'Carolina',\n",
       " 'Illinois',\n",
       " 'Oregon',\n",
       " 'Hampshire',\n",
       " 'California',\n",
       " 'Florida',\n",
       " 'California',\n",
       " 'Florida',\n",
       " 'York',\n",
       " 'California',\n",
       " 'Louisiana',\n",
       " 'Jersey',\n",
       " 'Jersey',\n",
       " 'Indiana',\n",
       " 'Florida',\n",
       " 'Arizona',\n",
       " 'Maryland',\n",
       " 'Carolina',\n",
       " 'Alaska',\n",
       " 'York',\n",
       " 'York',\n",
       " 'Florida',\n",
       " 'York',\n",
       " 'Florida',\n",
       " 'Florida',\n",
       " 'Florida',\n",
       " 'California',\n",
       " 'Florida',\n",
       " 'Pennsylvania',\n",
       " 'Carolina',\n",
       " 'Illinois',\n",
       " 'Oregon',\n",
       " 'Hampshire',\n",
       " 'California',\n",
       " 'Florida',\n",
       " 'California',\n",
       " 'Florida',\n",
       " 'York',\n",
       " 'California',\n",
       " 'Louisiana',\n",
       " 'Jersey',\n",
       " 'Jersey',\n",
       " 'Indiana',\n",
       " 'Florida',\n",
       " 'Arizona',\n",
       " 'Maryland',\n",
       " 'Carolina',\n",
       " 'Florida',\n",
       " 'Florida',\n",
       " 'Oregon',\n",
       " 'Carolina',\n",
       " 'Carolina',\n",
       " 'Texas',\n",
       " 'Florida',\n",
       " 'Georgia',\n",
       " 'California',\n",
       " 'Florida',\n",
       " 'California',\n",
       " 'California',\n",
       " 'Hawaii',\n",
       " 'Florida',\n",
       " 'Alaska',\n",
       " 'Hawaii',\n",
       " 'Hawaii',\n",
       " 'Washington',\n",
       " 'California',\n",
       " 'California',\n",
       " 'Carolina',\n",
       " 'Florida',\n",
       " 'California',\n",
       " 'California',\n",
       " 'California',\n",
       " 'Hawaii',\n",
       " 'Jersey',\n",
       " 'Carolina',\n",
       " 'Florida',\n",
       " 'Florida',\n",
       " 'Oregon',\n",
       " 'Carolina',\n",
       " 'Carolina',\n",
       " 'Texas',\n",
       " 'Florida',\n",
       " 'Georgia',\n",
       " 'California',\n",
       " 'Florida',\n",
       " 'California',\n",
       " 'California',\n",
       " 'Hawaii',\n",
       " 'Florida',\n",
       " 'Alaska',\n",
       " 'Hawaii',\n",
       " 'Hawaii',\n",
       " 'Washington',\n",
       " 'California',\n",
       " 'California',\n",
       " 'Carolina',\n",
       " 'Florida',\n",
       " 'California',\n",
       " 'California',\n",
       " 'California',\n",
       " 'Hawaii',\n",
       " 'Jersey']"
      ]
     },
     "execution_count": 7,
     "metadata": {},
     "output_type": "execute_result"
    }
   ],
   "source": [
    "#state"
   ]
  },
  {
   "cell_type": "code",
   "execution_count": 14,
   "metadata": {
    "collapsed": false
   },
   "outputs": [],
   "source": []
  },
  {
   "cell_type": "code",
   "execution_count": 15,
   "metadata": {
    "collapsed": false
   },
   "outputs": [
    {
     "data": {
      "text/plain": [
       "['/Restaurant_Review-g60742-d1860575-Reviews-Sunny_Point_Cafe-Asheville_North_Carolina.html',\n",
       " '/Attraction_Review-g60873-d665300-Reviews-Sunny_Cove_Sea_Kayaking-Seward_Alaska.html',\n",
       " '/Hotel_Review-g47829-d587669-Reviews-Sunny_Hill_Resort_and_Golf_Course-Greenville_Catskill_Region_New_York.html',\n",
       " '/Attraction_Review-g60763-d105127-Reviews-Central_Park-New_York_City_New_York.html',\n",
       " '/Hotel_Review-g552080-d85093-Reviews-Trump_International_Beach_Resort-Sunny_Isles_Beach_Florida.html',\n",
       " '/Attraction_Review-g60763-d519474-Reviews-The_High_Line-New_York_City_New_York.html',\n",
       " '/Attraction_Review-g34345-d1066436-Reviews-Sunny_Days_Catamarans-Key_West_Florida_Keys_Florida.html',\n",
       " '/Hotel_Review-g552080-d85147-Reviews-Newport_Beachside_Hotel_and_Resort-Sunny_Isles_Beach_Florida.html',\n",
       " '/Hotel_Review-g552080-d547621-Reviews-Marenas_Beach_Resort-Sunny_Isles_Beach_Florida.html',\n",
       " '/Attraction_Review-g60713-d104675-Reviews-Golden_Gate_Bridge-San_Francisco_California.html',\n",
       " '/Hotel_Review-g552080-d1213843-Reviews-Sole_on_the_Ocean-Sunny_Isles_Beach_Florida.html',\n",
       " '/Hotel_Review-g53400-d122318-Reviews-Sunny_Rest_Lodge-Palmerton_Pocono_Mountains_Region_Pennsylvania.html',\n",
       " '/Restaurant_Review-g49673-d4167431-Reviews-Sunny_Sushi_Lounge-Wilmington_North_Carolina.html',\n",
       " '/Restaurant_Review-g35805-d3586103-Reviews-Sunny_Side_Up_Coffee_Shop-Chicago_Illinois.html',\n",
       " '/Hotel_Review-g51766-d6576997-Reviews-Sunny_Acres_Bed_Breakfast-Bend_Central_Oregon_Oregon.html',\n",
       " '/Restaurant_Review-g46140-d599819-Reviews-Sunny_Day_Diner-Lincoln_New_Hampshire.html',\n",
       " '/Attraction_Review-g32578-d2032285-Reviews-Sunny_Jim_Cave-La_Jolla_San_Diego_California.html',\n",
       " '/Hotel_Review-g552080-d86942-Reviews-Ramada_Plaza_Marco_Polo_Beach_Resort-Sunny_Isles_Beach_Florida.html',\n",
       " '/Hotel_Review-g33048-d797764-Reviews-Sunny_Cove_Motel_Apartments-Santa_Cruz_California.html',\n",
       " '/Hotel_Review-g552080-d498918-Reviews-Acqualina_Resort_Spa_on_the_Beach-Sunny_Isles_Beach_Florida.html',\n",
       " '/Attraction_Review-g60763-d587661-Reviews-Top_of_the_Rock_Observation_Deck-New_York_City_New_York.html',\n",
       " '/Restaurant_Review-g32655-d2525477-Reviews-Sunny_Spot-Los_Angeles_California.html',\n",
       " '/Restaurant_Review-g40223-d8000350-Reviews-Sunny-Houma_Louisiana.html',\n",
       " '/Restaurant_Review-g2156348-d3366447-Reviews-Sunny_Hunny-Ortley_Beach_New_Jersey.html',\n",
       " '/Restaurant_Review-g46400-d2224710-Reviews-Sunny_Palace-East_Brunswick_New_Jersey.html',\n",
       " '/Restaurant_Review-g37328-d539076-Reviews-Sunny_s_Korean_Restaurant-Mishawaka_Indiana.html',\n",
       " '/Hotel_Review-g34225-d86717-Reviews-Florida_City_Travelodge-Florida_City_Florida.html',\n",
       " '/Restaurant_Review-g60950-d2224417-Reviews-Sunny_Daze-Tucson_Arizona.html',\n",
       " '/Restaurant_Review-g40997-d3654066-Reviews-Sunny_Day_Cafe-Bel_Air_Maryland.html']"
      ]
     },
     "execution_count": 15,
     "metadata": {},
     "output_type": "execute_result"
    }
   ],
   "source": []
  },
  {
   "cell_type": "code",
   "execution_count": 128,
   "metadata": {
    "collapsed": false
   },
   "outputs": [],
   "source": []
  },
  {
   "cell_type": "code",
   "execution_count": 129,
   "metadata": {
    "collapsed": true
   },
   "outputs": [],
   "source": []
  },
  {
   "cell_type": "code",
   "execution_count": 153,
   "metadata": {
    "collapsed": true
   },
   "outputs": [],
   "source": []
  },
  {
   "cell_type": "code",
   "execution_count": 154,
   "metadata": {
    "collapsed": false
   },
   "outputs": [],
   "source": []
  },
  {
   "cell_type": "code",
   "execution_count": 155,
   "metadata": {
    "collapsed": false
   },
   "outputs": [
    {
     "data": {
      "text/plain": [
       "'/Restaurant_Review-g40997-d3654066-Reviews-Sunny_Day_Cafe-Bel_Air_Maryland.html'"
      ]
     },
     "execution_count": 155,
     "metadata": {},
     "output_type": "execute_result"
    }
   ],
   "source": []
  },
  {
   "cell_type": "code",
   "execution_count": 156,
   "metadata": {
    "collapsed": false
   },
   "outputs": [
    {
     "data": {
      "text/plain": [
       "['/Restaurant_Review-g60742-d1860575-Reviews-Sunny_Point_Cafe-Asheville_North_Carolina.html',\n",
       " '/Attraction_Review-g60873-d665300-Reviews-Sunny_Cove_Sea_Kayaking-Seward_Alaska.html',\n",
       " '/Hotel_Review-g47829-d587669-Reviews-Sunny_Hill_Resort_and_Golf_Course-Greenville_Catskill_Region_New_York.html',\n",
       " '/Attraction_Review-g60763-d105127-Reviews-Central_Park-New_York_City_New_York.html',\n",
       " '/Restaurant_Review-g40997-d3654066-Reviews-Sunny_Day_Cafe-Bel_Air_Maryland.html']"
      ]
     },
     "execution_count": 156,
     "metadata": {},
     "output_type": "execute_result"
    }
   ],
   "source": []
  },
  {
   "cell_type": "code",
   "execution_count": 160,
   "metadata": {
    "collapsed": false
   },
   "outputs": [
    {
     "ename": "IndexError",
     "evalue": "list index out of range",
     "output_type": "error",
     "traceback": [
      "\u001b[1;31m---------------------------------------------------------------------------\u001b[0m",
      "\u001b[1;31mIndexError\u001b[0m                                Traceback (most recent call last)",
      "\u001b[1;32m<ipython-input-160-b7c3ca0cb251>\u001b[0m in \u001b[0;36m<module>\u001b[1;34m()\u001b[0m\n\u001b[0;32m      7\u001b[0m     \u001b[0mresult\u001b[0m \u001b[1;33m=\u001b[0m \u001b[0mtitle\u001b[0m\u001b[1;33m.\u001b[0m\u001b[0mreplace\u001b[0m\u001b[1;33m(\u001b[0m\u001b[1;34m'0, \\''\u001b[0m\u001b[1;33m,\u001b[0m\u001b[1;34m'***'\u001b[0m\u001b[1;33m)\u001b[0m\u001b[1;33m.\u001b[0m\u001b[0mreplace\u001b[0m\u001b[1;33m(\u001b[0m\u001b[1;34m'\\')\"><span>'\u001b[0m\u001b[1;33m,\u001b[0m\u001b[1;34m'***'\u001b[0m\u001b[1;33m)\u001b[0m\u001b[1;33m.\u001b[0m\u001b[0msplit\u001b[0m\u001b[1;33m(\u001b[0m\u001b[1;34m'***'\u001b[0m\u001b[1;33m)\u001b[0m\u001b[1;33m\u001b[0m\u001b[0m\n\u001b[0;32m      8\u001b[0m \u001b[1;33m\u001b[0m\u001b[0m\n\u001b[1;32m----> 9\u001b[1;33m     \u001b[0mreview_links\u001b[0m\u001b[1;33m.\u001b[0m\u001b[0mappend\u001b[0m\u001b[1;33m(\u001b[0m\u001b[0mresult\u001b[0m\u001b[1;33m[\u001b[0m\u001b[1;36m1\u001b[0m\u001b[1;33m]\u001b[0m\u001b[1;33m)\u001b[0m\u001b[1;33m\u001b[0m\u001b[0m\n\u001b[0m",
      "\u001b[1;31mIndexError\u001b[0m: list index out of range"
     ]
    }
   ],
   "source": [
    "\n",
    "    \n",
    "   "
   ]
  },
  {
   "cell_type": "code",
   "execution_count": 162,
   "metadata": {
    "collapsed": false
   },
   "outputs": [
    {
     "data": {
      "text/plain": [
       "[False]"
      ]
     },
     "execution_count": 162,
     "metadata": {},
     "output_type": "execute_result"
    }
   ],
   "source": []
  },
  {
   "cell_type": "code",
   "execution_count": 163,
   "metadata": {
    "collapsed": false
   },
   "outputs": [
    {
     "data": {
      "text/plain": [
       "'<div class=\"title\"><span><span class=\"highlighted\">Sunny</span> Isles Beach, Florida</span></div>'"
      ]
     },
     "execution_count": 163,
     "metadata": {},
     "output_type": "execute_result"
    }
   ],
   "source": []
  },
  {
   "cell_type": "code",
   "execution_count": 9,
   "metadata": {
    "collapsed": false
   },
   "outputs": [],
   "source": []
  },
  {
   "cell_type": "code",
   "execution_count": 10,
   "metadata": {
    "collapsed": false
   },
   "outputs": [
    {
     "data": {
      "text/plain": [
       "[<div class=\"title\">\\nNot ready to book?\\n</div>,\n",
       " <div class=\"title\" onclick=\"ta.setEvtCookie('Search_Results_Page', 'POI_Name', '', 0, '/Restaurant_Review-g60742-d1860575-Reviews-Sunny_Point_Cafe-Asheville_North_Carolina.html')\"><span><span class=\"highlighted\">Sunny</span> Point Cafe</span></div>,\n",
       " <div class=\"title\" onclick=\"ta.setEvtCookie('Search_Results_Page', 'POI_Name', '', 0, '/Attraction_Review-g60873-d665300-Reviews-Sunny_Cove_Sea_Kayaking-Seward_Alaska.html')\"><span><span class=\"highlighted\">Sunny</span> Cove Sea Kayaking</span></div>,\n",
       " <div class=\"title\" onclick=\"ta.setEvtCookie('Search_Results_Page', 'POI_Name', '', 0, '/Hotel_Review-g47829-d587669-Reviews-Sunny_Hill_Resort_and_Golf_Course-Greenville_Catskill_Region_New_York.html')\"><span><span class=\"highlighted\">Sunny</span> Hill Resort and Golf Course</span></div>,\n",
       " <div class=\"title\" onclick=\"ta.setEvtCookie('Search_Results_Page', 'POI_Name', '', 0, '/Attraction_Review-g60763-d105127-Reviews-Central_Park-New_York_City_New_York.html')\"><span>Central Park</span></div>,\n",
       " <div class=\"title\"><span><span class=\"highlighted\">Sunny</span> Isles Beach, Florida</span></div>,\n",
       " <div class=\"title\" onclick=\"ta.setEvtCookie('Search_Results_Page', 'POI_Name', '', 0, '/Hotel_Review-g552080-d85093-Reviews-Trump_International_Beach_Resort-Sunny_Isles_Beach_Florida.html')\"><span>Trump International Beach Resort</span></div>,\n",
       " <div class=\"title\" onclick=\"ta.setEvtCookie('Search_Results_Page', 'POI_Name', '', 0, '/Attraction_Review-g60763-d519474-Reviews-The_High_Line-New_York_City_New_York.html')\"><span>The High Line</span></div>,\n",
       " <div class=\"title\" onclick=\"ta.setEvtCookie('Search_Results_Page', 'POI_Name', '', 0, '/Attraction_Review-g34345-d1066436-Reviews-Sunny_Days_Catamarans-Key_West_Florida_Keys_Florida.html')\"><span><span class=\"highlighted\">Sunny</span> Days Catamarans</span></div>,\n",
       " <div class=\"title\" onclick=\"ta.setEvtCookie('Search_Results_Page', 'POI_Name', '', 0, '/Hotel_Review-g552080-d85147-Reviews-Newport_Beachside_Hotel_and_Resort-Sunny_Isles_Beach_Florida.html')\"><span>Newport Beachside Hotel and Resort</span></div>,\n",
       " <div class=\"title\" onclick=\"ta.setEvtCookie('Search_Results_Page', 'POI_Name', '', 0, '/Hotel_Review-g552080-d547621-Reviews-Marenas_Beach_Resort-Sunny_Isles_Beach_Florida.html')\"><span>Marenas Beach Resort</span></div>,\n",
       " <div class=\"title\" onclick=\"ta.setEvtCookie('Search_Results_Page', 'POI_Name', '', 0, '/Attraction_Review-g60713-d104675-Reviews-Golden_Gate_Bridge-San_Francisco_California.html')\"><span>Golden Gate Bridge</span></div>,\n",
       " <div class=\"title\" onclick=\"ta.setEvtCookie('Search_Results_Page', 'POI_Name', '', 0, '/Hotel_Review-g552080-d1213843-Reviews-Sole_on_the_Ocean-Sunny_Isles_Beach_Florida.html')\"><span>Sole on the Ocean</span></div>,\n",
       " <div class=\"title\" onclick=\"ta.setEvtCookie('Search_Results_Page', 'POI_Name', '', 0, '/Hotel_Review-g53400-d122318-Reviews-Sunny_Rest_Lodge-Palmerton_Pocono_Mountains_Region_Pennsylvania.html')\"><span><span class=\"highlighted\">Sunny</span> Rest Lodge</span></div>,\n",
       " <div class=\"title\" onclick=\"ta.setEvtCookie('Search_Results_Page', 'POI_Name', '', 0, '/Restaurant_Review-g49673-d4167431-Reviews-Sunny_Sushi_Lounge-Wilmington_North_Carolina.html')\"><span><span class=\"highlighted\">Sunny</span> Sushi &amp; Lounge</span></div>,\n",
       " <div class=\"title\" onclick=\"ta.setEvtCookie('Search_Results_Page', 'POI_Name', '', 0, '/Restaurant_Review-g35805-d3586103-Reviews-Sunny_Side_Up_Coffee_Shop-Chicago_Illinois.html')\"><span><span class=\"highlighted\">Sunny</span> Side Up &amp; Coffee Shop</span></div>,\n",
       " <div class=\"title\" onclick=\"ta.setEvtCookie('Search_Results_Page', 'POI_Name', '', 0, '/Hotel_Review-g51766-d6576997-Reviews-Sunny_Acres_Bed_Breakfast-Bend_Central_Oregon_Oregon.html')\"><span><span class=\"highlighted\">Sunny</span> Acres Bed &amp; Breakfast</span></div>,\n",
       " <div class=\"title\" onclick=\"ta.setEvtCookie('Search_Results_Page', 'POI_Name', '', 0, '/Restaurant_Review-g46140-d599819-Reviews-Sunny_Day_Diner-Lincoln_New_Hampshire.html')\"><span><span class=\"highlighted\">Sunny</span> Day Diner</span></div>,\n",
       " <div class=\"title\" onclick=\"ta.setEvtCookie('Search_Results_Page', 'POI_Name', '', 0, '/Attraction_Review-g32578-d2032285-Reviews-Sunny_Jim_Cave-La_Jolla_San_Diego_California.html')\"><span><span class=\"highlighted\">Sunny</span> Jim Cave</span></div>,\n",
       " <div class=\"title\" onclick=\"ta.setEvtCookie('Search_Results_Page', 'POI_Name', '', 0, '/Hotel_Review-g552080-d86942-Reviews-Ramada_Plaza_Marco_Polo_Beach_Resort-Sunny_Isles_Beach_Florida.html')\"><span>Ramada Plaza Marco Polo Beach Resort</span></div>,\n",
       " <div class=\"title\" onclick=\"ta.setEvtCookie('Search_Results_Page', 'POI_Name', '', 0, '/Hotel_Review-g33048-d797764-Reviews-Sunny_Cove_Motel_Apartments-Santa_Cruz_California.html')\"><span><span class=\"highlighted\">Sunny</span> Cove Motel Apartments</span></div>,\n",
       " <div class=\"title\" onclick=\"ta.setEvtCookie('Search_Results_Page', 'POI_Name', '', 0, '/Hotel_Review-g552080-d498918-Reviews-Acqualina_Resort_Spa_on_the_Beach-Sunny_Isles_Beach_Florida.html')\"><span>Acqualina Resort &amp; Spa on the Beach</span></div>,\n",
       " <div class=\"title\" onclick=\"ta.setEvtCookie('Search_Results_Page', 'POI_Name', '', 0, '/Attraction_Review-g60763-d587661-Reviews-Top_of_the_Rock_Observation_Deck-New_York_City_New_York.html')\"><span>Top of the Rock Observation Deck</span></div>,\n",
       " <div class=\"title\" onclick=\"ta.setEvtCookie('Search_Results_Page', 'POI_Name', '', 0, '/Restaurant_Review-g32655-d2525477-Reviews-Sunny_Spot-Los_Angeles_California.html')\"><span><span class=\"highlighted\">Sunny</span> Spot</span></div>,\n",
       " <div class=\"title\" onclick=\"ta.setEvtCookie('Search_Results_Page', 'POI_Name', '', 0, '/Restaurant_Review-g40223-d8000350-Reviews-Sunny-Houma_Louisiana.html')\"><span><span class=\"highlighted\">Sunny</span></span></div>,\n",
       " <div class=\"title\" onclick=\"ta.setEvtCookie('Search_Results_Page', 'POI_Name', '', 0, '/Restaurant_Review-g2156348-d3366447-Reviews-Sunny_Hunny-Ortley_Beach_New_Jersey.html')\"><span><span class=\"highlighted\">Sunny</span> Hunny</span></div>,\n",
       " <div class=\"title\" onclick=\"ta.setEvtCookie('Search_Results_Page', 'POI_Name', '', 0, '/Restaurant_Review-g46400-d2224710-Reviews-Sunny_Palace-East_Brunswick_New_Jersey.html')\"><span><span class=\"highlighted\">Sunny</span> Palace</span></div>,\n",
       " <div class=\"title\" onclick=\"ta.setEvtCookie('Search_Results_Page', 'POI_Name', '', 0, '/Restaurant_Review-g37328-d539076-Reviews-Sunny_s_Korean_Restaurant-Mishawaka_Indiana.html')\"><span><span class=\"highlighted\">Sunny</span>'s Korean Restaurant</span></div>,\n",
       " <div class=\"title\" onclick=\"ta.setEvtCookie('Search_Results_Page', 'POI_Name', '', 0, '/Hotel_Review-g34225-d86717-Reviews-Florida_City_Travelodge-Florida_City_Florida.html')\"><span>Florida City Travelodge</span></div>,\n",
       " <div class=\"title\" onclick=\"ta.setEvtCookie('Search_Results_Page', 'POI_Name', '', 0, '/Restaurant_Review-g60950-d2224417-Reviews-Sunny_Daze-Tucson_Arizona.html')\"><span><span class=\"highlighted\">Sunny</span> Daze</span></div>,\n",
       " <div class=\"title\" onclick=\"ta.setEvtCookie('Search_Results_Page', 'POI_Name', '', 0, '/Restaurant_Review-g40997-d3654066-Reviews-Sunny_Day_Cafe-Bel_Air_Maryland.html')\"><span><span class=\"highlighted\">Sunny</span> Day Cafe</span></div>]"
      ]
     },
     "execution_count": 10,
     "metadata": {},
     "output_type": "execute_result"
    }
   ],
   "source": []
  },
  {
   "cell_type": "code",
   "execution_count": 11,
   "metadata": {
    "collapsed": false
   },
   "outputs": [
    {
     "data": {
      "text/plain": [
       "[False]"
      ]
     },
     "execution_count": 11,
     "metadata": {},
     "output_type": "execute_result"
    }
   ],
   "source": []
  },
  {
   "cell_type": "code",
   "execution_count": 12,
   "metadata": {
    "collapsed": true
   },
   "outputs": [],
   "source": []
  },
  {
   "cell_type": "code",
   "execution_count": 13,
   "metadata": {
    "collapsed": false
   },
   "outputs": [
    {
     "data": {
      "text/plain": [
       "['iii']"
      ]
     },
     "execution_count": 13,
     "metadata": {},
     "output_type": "execute_result"
    }
   ],
   "source": []
  },
  {
   "cell_type": "code",
   "execution_count": 140,
   "metadata": {
    "collapsed": false
   },
   "outputs": [
    {
     "ename": "SyntaxError",
     "evalue": "invalid syntax (<ipython-input-140-477cda2ea8c3>, line 7)",
     "output_type": "error",
     "traceback": [
      "\u001b[1;36m  File \u001b[1;32m\"<ipython-input-140-477cda2ea8c3>\"\u001b[1;36m, line \u001b[1;32m7\u001b[0m\n\u001b[1;33m    counties = {k:v for (k,v in ((line['dd.state'], line['dd.txt']) for line in lines)}\u001b[0m\n\u001b[1;37m                                                                                      ^\u001b[0m\n\u001b[1;31mSyntaxError\u001b[0m\u001b[1;31m:\u001b[0m invalid syntax\n"
     ]
    }
   ],
   "source": []
  },
  {
   "cell_type": "code",
   "execution_count": null,
   "metadata": {
    "collapsed": true
   },
   "outputs": [],
   "source": []
  }
 ],
 "metadata": {
  "kernelspec": {
   "display_name": "Python 2",
   "language": "python",
   "name": "python2"
  },
  "language_info": {
   "codemirror_mode": {
    "name": "ipython",
    "version": 2
   },
   "file_extension": ".py",
   "mimetype": "text/x-python",
   "name": "python",
   "nbconvert_exporter": "python",
   "pygments_lexer": "ipython2",
   "version": "2.7.11"
  }
 },
 "nbformat": 4,
 "nbformat_minor": 0
}
